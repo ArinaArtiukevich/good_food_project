{
 "cells": [
  {
   "cell_type": "code",
   "execution_count": 26,
   "metadata": {},
   "outputs": [],
   "source": [
    "import pandas as pd\n",
    "\n",
    "from input_parsing.parsing import BBCRecipesParses\n",
    "from data_preprocessing.preprocessing import DataPreprocessing\n",
    "from recipe_model.tf_idf import TF_IDF_RecipeRecommendation\n",
    "from constants import DATA_CSV_PATH_FULL, DATA_CSV_PATH_SHORT, DATA_PARSED_CSV_PATH, DROP_DUPLICATES_BY_COLUMN"
   ]
  },
  {
   "cell_type": "markdown",
   "metadata": {},
   "source": [
    "parse data from https://www.bbcgoodfood.com\n"
   ]
  },
  {
   "cell_type": "code",
   "execution_count": 7,
   "metadata": {},
   "outputs": [],
   "source": [
    "# parser = BBCRecipesParses()\n",
    "# data = parser.parse_recipes()\n"
   ]
  },
  {
   "cell_type": "markdown",
   "metadata": {},
   "source": [
    "save data\n"
   ]
  },
  {
   "cell_type": "code",
   "execution_count": null,
   "metadata": {},
   "outputs": [],
   "source": [
    "# data.to_csv(\n",
    "#         DATA_CSV_PATH_FULL,\n",
    "#         sep=\"\\t\", index=False)"
   ]
  },
  {
   "cell_type": "markdown",
   "metadata": {},
   "source": [
    "read data, drop duplicates"
   ]
  },
  {
   "cell_type": "code",
   "execution_count": 13,
   "metadata": {},
   "outputs": [],
   "source": [
    "df = pd.read_csv(DATA_CSV_PATH_SHORT, sep='\\t')\n",
    "recipe_df = df.copy()\n",
    "# print(recipe_df.shape)\n",
    "recipe_df.sort_values(DROP_DUPLICATES_BY_COLUMN, inplace=True)\n",
    "recipe_df.drop_duplicates(subset=DROP_DUPLICATES_BY_COLUMN, keep=False, inplace=True)\n",
    "recipe_df.reset_index(drop=True, inplace=True)\n",
    "# print(recipe_df)\n"
   ]
  },
  {
   "cell_type": "markdown",
   "metadata": {},
   "source": [
    "preprocess dataframe"
   ]
  },
  {
   "cell_type": "code",
   "execution_count": 18,
   "metadata": {},
   "outputs": [],
   "source": [
    "dt_preprocess = DataPreprocessing()\n",
    "dt_preprocessed = dt_preprocess.preprocess_df(recipe_df)\n",
    "# dt_preprocessed"
   ]
  },
  {
   "cell_type": "markdown",
   "metadata": {},
   "source": [
    "save preprocessed dataframe"
   ]
  },
  {
   "cell_type": "code",
   "execution_count": 22,
   "metadata": {},
   "outputs": [],
   "source": [
    "dt_preprocessed.to_csv(DATA_PARSED_CSV_PATH, sep=\"\\t\", index=False)"
   ]
  },
  {
   "cell_type": "markdown",
   "metadata": {},
   "source": [
    "test user input"
   ]
  },
  {
   "cell_type": "code",
   "execution_count": 24,
   "metadata": {},
   "outputs": [],
   "source": [
    "test_string = \"[' 22(del)5g unsalted          butter,  (delete) softened', '225g caster sugar', '4 eggs', \" \\\n",
    "                \"'225g self,-raising flour', '1        lemon, zested', '1½ lemons, juiced', '85g caster sugar',' salt']\"\n",
    "list_test_ingredients = dt_preprocess.preprocess_request(test_string)\n",
    "# list_test_ingredients"
   ]
  },
  {
   "cell_type": "markdown",
   "metadata": {},
   "source": [
    "TF-IDF"
   ]
  },
  {
   "cell_type": "code",
   "execution_count": null,
   "metadata": {},
   "outputs": [],
   "source": []
  },
  {
   "cell_type": "code",
   "execution_count": 30,
   "metadata": {},
   "outputs": [
    {
     "data": {
      "text/plain": [
       "ingredients\n",
       "['2kg pork shoulder, skin removed', '1 onion, sliced', '2 tsp smoked paprika', '½ tsp cinnamon', '1 tbsp flour', '2 tsp oil', '4 garlic cloves, crushed', '160ml cloudy apple juice', '1 tbsp black treacle', '2 tbsp honey', '3 tbsp apple cider vinegar', '50g onion marmalade', '1 fennel bulb, sliced thinly', '1 apple, sliced thinly', 'juice 1 lemon', '8 - 10 bread rolls', 'English mustard', 'mayonnaise (optional)']                     0.425774\n",
       "['1kg Bramley apples', '140g golden caster sugar', '½ tsp cinnamon', '3 tbsp flour', '225g butter, room temperature', '50g golden caster sugar, plus extra', '2 eggs', '350g plain flour, preferably organic', 'softly whipped cream, to serve']                                                                                                                                                                                                    0.401223\n",
       "['100g butter, cubed', '100g golden caster sugar', '2 vanilla pods, seeds scraped out', '700g firm plums, stoned and roughly chopped', '300g Braeburn apples, peeled, cored and chopped', '1 tsp cinnamon', '1 egg', '100ml milk', '140g cold butter, cut into cubes', '280g plain flour', '140g golden caster sugar', '½ tsp cinnamon', '1 tbsp baking powder', '2 tbsp demerara sugar', 'clotted cream, to serve']                                0.390361\n",
       "['2 large eggs', '150ml pot natural low-fat yogurt', '50ml rapeseed oil', '100g apple sauce or pureed apples (find with the baby food)', '1 ripe banana, mashed', '4 tbsp clear honey', '1 tsp vanilla extract', '200g wholemeal flour', '50g rolled oats, plus extra for sprinkling', '1½ tsp baking powder', '1½ tsp bicarbonate of soda', '1½ tsp cinnamon', '100g blueberry', '2 tbsp mixed seed (we used pumpkin, sunflower and flaxseed)']    0.360704\n",
       "['115g unsalted butter, diced and chilled, plus extra for the tin', '225g self-raising flour', '2 tsp ground cinnamon', '115g light  brown sugar', '1 large egg, beaten', '6-8 tbsp milk', '225g Bramley or Granny Smith  apples, peeled, cored and diced', '100g sultanas', '2 tbsp demerara sugar (optional)']                                                                                                                                    0.320314\n",
       "dtype: float64"
      ]
     },
     "execution_count": 30,
     "metadata": {},
     "output_type": "execute_result"
    }
   ],
   "source": [
    "test_string = \"['cinnamon', 'sugar', 'apple', 'flour']\"\n",
    "\n",
    "tf_idf = TF_IDF_RecipeRecommendation.create_instance(df_path=DATA_PARSED_CSV_PATH).prepare_model()\n",
    "rec = tf_idf.get_recommendations(test_string)\n",
    "rec"
   ]
  },
  {
   "cell_type": "code",
   "execution_count": null,
   "metadata": {},
   "outputs": [],
   "source": []
  }
 ],
 "metadata": {
  "interpreter": {
   "hash": "80dae9fab2f7c90de1b373b25db82b92c5b5455c478886ad38e62bfa1fb9f509"
  },
  "kernelspec": {
   "display_name": "Python 3.10.11 ('project_food')",
   "language": "python",
   "name": "python3"
  },
  "language_info": {
   "codemirror_mode": {
    "name": "ipython",
    "version": 3
   },
   "file_extension": ".py",
   "mimetype": "text/x-python",
   "name": "python",
   "nbconvert_exporter": "python",
   "pygments_lexer": "ipython3",
   "version": "3.10.11"
  },
  "orig_nbformat": 4
 },
 "nbformat": 4,
 "nbformat_minor": 2
}
