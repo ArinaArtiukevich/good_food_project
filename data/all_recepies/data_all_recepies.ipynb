{
 "cells": [
  {
   "cell_type": "code",
   "execution_count": 3,
   "id": "d776f7c8",
   "metadata": {},
   "outputs": [],
   "source": [
    "import pandas as pd\n",
    "import numpy as np\n",
    "import math\n",
    "import re\n",
    "import requests\n",
    "import bs4\n",
    "import time"
   ]
  },
  {
   "cell_type": "code",
   "execution_count": 4,
   "id": "1068ca24",
   "metadata": {},
   "outputs": [],
   "source": [
    "URL = 'https://www.allrecipes.com/recipe/8948/italian-chicken-marinade/'"
   ]
  },
  {
   "cell_type": "code",
   "execution_count": 10,
   "id": "c9c35554",
   "metadata": {},
   "outputs": [
    {
     "name": "stdout",
     "output_type": "stream",
     "text": [
      "Grilling and Other Outdoor Cooking,BBQ & Grilling,Main Dishes,Chicken Breast,Dinner,Main Dishes,European,Italian,Kosher,Chicken\n"
     ]
    }
   ],
   "source": [
    "page = \"\"\n",
    "try:\n",
    "    page = requests.get(URL)\n",
    "except requests.exceptions.ConnectionError:\n",
    "    print(\"Connection problems\")\n",
    "    # TODO\n",
    "\n",
    "soup = bs4.BeautifulSoup(page.text)\n",
    "tags = parser.find('meta', attrs={'name' : \"parsely-tags\"})\n",
    "print(tags[\"content\"])\n"
   ]
  }
 ],
 "metadata": {
  "kernelspec": {
   "display_name": "Python 3",
   "language": "python",
   "name": "python3"
  },
  "language_info": {
   "codemirror_mode": {
    "name": "ipython",
    "version": 3
   },
   "file_extension": ".py",
   "mimetype": "text/x-python",
   "name": "python",
   "nbconvert_exporter": "python",
   "pygments_lexer": "ipython3",
   "version": "3.10.11"
  }
 },
 "nbformat": 4,
 "nbformat_minor": 5
}
