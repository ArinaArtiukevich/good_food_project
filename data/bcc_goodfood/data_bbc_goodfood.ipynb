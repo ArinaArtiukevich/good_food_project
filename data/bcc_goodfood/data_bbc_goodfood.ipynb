{
 "cells": [
  {
   "cell_type": "code",
   "execution_count": 1,
   "metadata": {},
   "outputs": [],
   "source": [
    "import pandas as pd\n",
    "import numpy as np\n",
    "import math\n",
    "import re\n",
    "import requests\n",
    "import bs4\n",
    "import time"
   ]
  },
  {
   "cell_type": "code",
   "execution_count": 2,
   "id": "3f0abc32",
   "metadata": {},
   "outputs": [],
   "source": [
    "from selenium import webdriver\n",
    "from selenium.webdriver.common.by import By"
   ]
  },
  {
   "cell_type": "code",
   "execution_count": 3,
   "id": "6dd9df67",
   "metadata": {},
   "outputs": [
    {
     "name": "stderr",
     "output_type": "stream",
     "text": [
      "/var/folders/sh/41fnk4317z18sxj_vwp76hz40000gn/T/ipykernel_47158/507558712.py:8: DeprecationWarning: executable_path has been deprecated, please pass in a Service object\n",
      "  DRIVER = webdriver.Chrome(\"/home/felipe/Downloads/chromedriver\")\n"
     ]
    }
   ],
   "source": [
    "URL = 'https://www.bbcgoodfood.com/search?tab=recipe'\n",
    "\n",
    "BASIC_URL = 'https://www.bbcgoodfood.com/recipes'\n",
    "\n",
    "SEARCH_URL = \"https://www.bbcgoodfood.com/search\"\n",
    "MEAL_TYPE = \"?mealType=\"\n",
    "\n",
    "DRIVER = webdriver.Chrome(\"/home/felipe/Downloads/chromedriver\")"
   ]
  },
  {
   "cell_type": "code",
   "execution_count": 4,
   "id": "b75d82e7",
   "metadata": {},
   "outputs": [],
   "source": [
    "def get_category_urls(seacrh_url: str = SEARCH_URL, bbc_food_url: str = URL, search_type: str = MEAL_TYPE) -> pd.DataFrame:\n",
    "    page = \"\"\n",
    "    try:\n",
    "        page = requests.get(URL)\n",
    "    except requests.exceptions.ConnectionError:\n",
    "        print(\"Connection problems\")\n",
    "        # TODO\n",
    "\n",
    "    parser = bs4.BeautifulSoup(page.text)\n",
    "    meal_categories = parser.find('ul', attrs={'role' : \"listbox\", 'class': 'ma-reset pa-reset'})\n",
    "    categories = pd.DataFrame(columns=['type', 'url', 'number'])\n",
    "    for link in meal_categories.find_all('li'):\n",
    "        val = link.select_one('input')['value']\n",
    "        categories.loc[len(categories)] = [val,  seacrh_url + search_type + val, int(re.findall(r'\\d+', link.getText())[0])]\n",
    "    categories.to_csv(r\"/Users/arina/study/ds/project/food_recommendation/input/bcc_goodfood/categories_links_bbc.csv\", sep=\"\\t\", index=False)\n",
    "    return categories"
   ]
  },
  {
   "cell_type": "code",
   "execution_count": 5,
   "id": "1a1a99a8",
   "metadata": {},
   "outputs": [
    {
     "data": {
      "text/html": [
       "<div>\n",
       "<style scoped>\n",
       "    .dataframe tbody tr th:only-of-type {\n",
       "        vertical-align: middle;\n",
       "    }\n",
       "\n",
       "    .dataframe tbody tr th {\n",
       "        vertical-align: top;\n",
       "    }\n",
       "\n",
       "    .dataframe thead th {\n",
       "        text-align: right;\n",
       "    }\n",
       "</style>\n",
       "<table border=\"1\" class=\"dataframe\">\n",
       "  <thead>\n",
       "    <tr style=\"text-align: right;\">\n",
       "      <th></th>\n",
       "      <th>type</th>\n",
       "      <th>url</th>\n",
       "      <th>number</th>\n",
       "    </tr>\n",
       "  </thead>\n",
       "  <tbody>\n",
       "    <tr>\n",
       "      <th>0</th>\n",
       "      <td>afternoon-tea</td>\n",
       "      <td>https://www.bbcgoodfood.com/search?mealType=af...</td>\n",
       "      <td>1266</td>\n",
       "    </tr>\n",
       "    <tr>\n",
       "      <th>1</th>\n",
       "      <td>breads</td>\n",
       "      <td>https://www.bbcgoodfood.com/search?mealType=br...</td>\n",
       "      <td>2</td>\n",
       "    </tr>\n",
       "    <tr>\n",
       "      <th>2</th>\n",
       "      <td>breakfast</td>\n",
       "      <td>https://www.bbcgoodfood.com/search?mealType=br...</td>\n",
       "      <td>641</td>\n",
       "    </tr>\n",
       "    <tr>\n",
       "      <th>3</th>\n",
       "      <td>brunch</td>\n",
       "      <td>https://www.bbcgoodfood.com/search?mealType=br...</td>\n",
       "      <td>541</td>\n",
       "    </tr>\n",
       "    <tr>\n",
       "      <th>4</th>\n",
       "      <td>buffet</td>\n",
       "      <td>https://www.bbcgoodfood.com/search?mealType=bu...</td>\n",
       "      <td>1168</td>\n",
       "    </tr>\n",
       "    <tr>\n",
       "      <th>5</th>\n",
       "      <td>canapes</td>\n",
       "      <td>https://www.bbcgoodfood.com/search?mealType=ca...</td>\n",
       "      <td>298</td>\n",
       "    </tr>\n",
       "    <tr>\n",
       "      <th>6</th>\n",
       "      <td>cheese-course</td>\n",
       "      <td>https://www.bbcgoodfood.com/search?mealType=ch...</td>\n",
       "      <td>10</td>\n",
       "    </tr>\n",
       "    <tr>\n",
       "      <th>7</th>\n",
       "      <td>cocktails</td>\n",
       "      <td>https://www.bbcgoodfood.com/search?mealType=co...</td>\n",
       "      <td>242</td>\n",
       "    </tr>\n",
       "    <tr>\n",
       "      <th>8</th>\n",
       "      <td>condiment</td>\n",
       "      <td>https://www.bbcgoodfood.com/search?mealType=co...</td>\n",
       "      <td>348</td>\n",
       "    </tr>\n",
       "    <tr>\n",
       "      <th>9</th>\n",
       "      <td>dessert</td>\n",
       "      <td>https://www.bbcgoodfood.com/search?mealType=de...</td>\n",
       "      <td>2656</td>\n",
       "    </tr>\n",
       "    <tr>\n",
       "      <th>10</th>\n",
       "      <td>dinner</td>\n",
       "      <td>https://www.bbcgoodfood.com/search?mealType=di...</td>\n",
       "      <td>7421</td>\n",
       "    </tr>\n",
       "    <tr>\n",
       "      <th>11</th>\n",
       "      <td>drink</td>\n",
       "      <td>https://www.bbcgoodfood.com/search?mealType=drink</td>\n",
       "      <td>518</td>\n",
       "    </tr>\n",
       "    <tr>\n",
       "      <th>12</th>\n",
       "      <td>fish-course</td>\n",
       "      <td>https://www.bbcgoodfood.com/search?mealType=fi...</td>\n",
       "      <td>132</td>\n",
       "    </tr>\n",
       "    <tr>\n",
       "      <th>13</th>\n",
       "      <td>lunch</td>\n",
       "      <td>https://www.bbcgoodfood.com/search?mealType=lunch</td>\n",
       "      <td>3725</td>\n",
       "    </tr>\n",
       "    <tr>\n",
       "      <th>14</th>\n",
       "      <td>main-course</td>\n",
       "      <td>https://www.bbcgoodfood.com/search?mealType=ma...</td>\n",
       "      <td>5193</td>\n",
       "    </tr>\n",
       "    <tr>\n",
       "      <th>15</th>\n",
       "      <td>pasta</td>\n",
       "      <td>https://www.bbcgoodfood.com/search?mealType=pasta</td>\n",
       "      <td>322</td>\n",
       "    </tr>\n",
       "    <tr>\n",
       "      <th>16</th>\n",
       "      <td>side-dish</td>\n",
       "      <td>https://www.bbcgoodfood.com/search?mealType=si...</td>\n",
       "      <td>2208</td>\n",
       "    </tr>\n",
       "    <tr>\n",
       "      <th>17</th>\n",
       "      <td>snack</td>\n",
       "      <td>https://www.bbcgoodfood.com/search?mealType=snack</td>\n",
       "      <td>1549</td>\n",
       "    </tr>\n",
       "    <tr>\n",
       "      <th>18</th>\n",
       "      <td>soup</td>\n",
       "      <td>https://www.bbcgoodfood.com/search?mealType=soup</td>\n",
       "      <td>328</td>\n",
       "    </tr>\n",
       "    <tr>\n",
       "      <th>19</th>\n",
       "      <td>starter</td>\n",
       "      <td>https://www.bbcgoodfood.com/search?mealType=st...</td>\n",
       "      <td>1110</td>\n",
       "    </tr>\n",
       "    <tr>\n",
       "      <th>20</th>\n",
       "      <td>supper</td>\n",
       "      <td>https://www.bbcgoodfood.com/search?mealType=su...</td>\n",
       "      <td>3195</td>\n",
       "    </tr>\n",
       "    <tr>\n",
       "      <th>21</th>\n",
       "      <td>treat</td>\n",
       "      <td>https://www.bbcgoodfood.com/search?mealType=treat</td>\n",
       "      <td>1732</td>\n",
       "    </tr>\n",
       "    <tr>\n",
       "      <th>22</th>\n",
       "      <td>vegetable</td>\n",
       "      <td>https://www.bbcgoodfood.com/search?mealType=ve...</td>\n",
       "      <td>301</td>\n",
       "    </tr>\n",
       "    <tr>\n",
       "      <th>23</th>\n",
       "      <td>flatbreads</td>\n",
       "      <td>https://www.bbcgoodfood.com/search?mealType=fl...</td>\n",
       "      <td>1</td>\n",
       "    </tr>\n",
       "    <tr>\n",
       "      <th>24</th>\n",
       "      <td>picnic</td>\n",
       "      <td>https://www.bbcgoodfood.com/search?mealType=pi...</td>\n",
       "      <td>1</td>\n",
       "    </tr>\n",
       "    <tr>\n",
       "      <th>25</th>\n",
       "      <td>side</td>\n",
       "      <td>https://www.bbcgoodfood.com/search?mealType=side</td>\n",
       "      <td>4</td>\n",
       "    </tr>\n",
       "  </tbody>\n",
       "</table>\n",
       "</div>"
      ],
      "text/plain": [
       "             type                                                url  number\n",
       "0   afternoon-tea  https://www.bbcgoodfood.com/search?mealType=af...    1266\n",
       "1          breads  https://www.bbcgoodfood.com/search?mealType=br...       2\n",
       "2       breakfast  https://www.bbcgoodfood.com/search?mealType=br...     641\n",
       "3          brunch  https://www.bbcgoodfood.com/search?mealType=br...     541\n",
       "4          buffet  https://www.bbcgoodfood.com/search?mealType=bu...    1168\n",
       "5         canapes  https://www.bbcgoodfood.com/search?mealType=ca...     298\n",
       "6   cheese-course  https://www.bbcgoodfood.com/search?mealType=ch...      10\n",
       "7       cocktails  https://www.bbcgoodfood.com/search?mealType=co...     242\n",
       "8       condiment  https://www.bbcgoodfood.com/search?mealType=co...     348\n",
       "9         dessert  https://www.bbcgoodfood.com/search?mealType=de...    2656\n",
       "10         dinner  https://www.bbcgoodfood.com/search?mealType=di...    7421\n",
       "11          drink  https://www.bbcgoodfood.com/search?mealType=drink     518\n",
       "12    fish-course  https://www.bbcgoodfood.com/search?mealType=fi...     132\n",
       "13          lunch  https://www.bbcgoodfood.com/search?mealType=lunch    3725\n",
       "14    main-course  https://www.bbcgoodfood.com/search?mealType=ma...    5193\n",
       "15          pasta  https://www.bbcgoodfood.com/search?mealType=pasta     322\n",
       "16      side-dish  https://www.bbcgoodfood.com/search?mealType=si...    2208\n",
       "17          snack  https://www.bbcgoodfood.com/search?mealType=snack    1549\n",
       "18           soup   https://www.bbcgoodfood.com/search?mealType=soup     328\n",
       "19        starter  https://www.bbcgoodfood.com/search?mealType=st...    1110\n",
       "20         supper  https://www.bbcgoodfood.com/search?mealType=su...    3195\n",
       "21          treat  https://www.bbcgoodfood.com/search?mealType=treat    1732\n",
       "22      vegetable  https://www.bbcgoodfood.com/search?mealType=ve...     301\n",
       "23     flatbreads  https://www.bbcgoodfood.com/search?mealType=fl...       1\n",
       "24         picnic  https://www.bbcgoodfood.com/search?mealType=pi...       1\n",
       "25           side   https://www.bbcgoodfood.com/search?mealType=side       4"
      ]
     },
     "execution_count": 5,
     "metadata": {},
     "output_type": "execute_result"
    }
   ],
   "source": [
    "categories = get_category_urls()\n",
    "categories"
   ]
  },
  {
   "cell_type": "code",
   "execution_count": 6,
   "id": "b52962bd",
   "metadata": {},
   "outputs": [],
   "source": [
    "def get_ingredients(ingredients_space):\n",
    "    ingredients = []\n",
    "    try:\n",
    "        ingredients_soup = ingredients_space.find_all('li', attrs={'class': 'pb-xxs pt-xxs list-item list-item--separator'})\n",
    "        for ingredient in range(len(ingredients_soup)):\n",
    "            ingredients.append(ingredients_soup[ingredient].getText())\n",
    "    except AttributeError:\n",
    "        # TODO find_all - nothing\n",
    "        ...\n",
    "    return ingredients\n",
    "\n",
    "def get_health_banners(health_banners_space):\n",
    "    health_banners = []\n",
    "    try:\n",
    "        health_banners_soup = health_banners_space.find_all('li', attrs={'class': 'list-item'})\n",
    "        for health_banner in range(len(health_banners_soup)):\n",
    "            health_banners.append(health_banners_soup[health_banner].getText())\n",
    "    except AttributeError:\n",
    "            # TODO find_all - nothing\n",
    "            ...\n",
    "    \n",
    "    return health_banners"
   ]
  },
  {
   "cell_type": "code",
   "execution_count": 7,
   "id": "93956b36",
   "metadata": {},
   "outputs": [],
   "source": [
    "def generate_dataset(type: str, url: str, n_items: int, basic_url: str = BASIC_URL, search_url: str = SEARCH_URL, driver: webdriver.Chrome = DRIVER) -> pd.DataFrame:\n",
    "    result = pd.DataFrame(columns=['type', 'name', 'ingredients', 'difficulty', \"health_banners\"])\n",
    "\n",
    "    articles = get_all_articles(url, n_items)\n",
    "\n",
    "    print(len(articles))\n",
    "    j = 0\n",
    "    for article in articles:\n",
    "        recipe_url = article.find('a').get('href')\n",
    "        recipe_title = article.find('h2', attrs={'class': 'heading-4'}).getText()\n",
    "        recipe_request = \"\"\n",
    "        while recipe_request == \"\":\n",
    "            try:\n",
    "                recipe_request = requests.get(basic_url + recipe_url)\n",
    "                break\n",
    "            except requests.exceptions.ConnectionError:\n",
    "                # TODO\n",
    "                print(\"exc\")\n",
    "                time.sleep(5)\n",
    "                continue\n",
    "        recipe_parser = bs4.BeautifulSoup(recipe_request.text)\n",
    "\n",
    "        ingredients_space = recipe_parser.find('section', attrs={'class': 'recipe__ingredients'})\n",
    "        planner_space = recipe_parser.find('ul', attrs={'class': 'post-header__planning'})\n",
    "        health_banners_space = recipe_parser.find('ul', attrs={'class': 'post-header__term-icons-list'})\n",
    "        try:\n",
    "            ingredients = get_ingredients(ingredients_space)\n",
    "            planner_soup = planner_space.find('div', attrs={'class': 'post-header__skill-level'})\n",
    "            health_banners = get_health_banners(health_banners_space)\n",
    "            j = j + 1\n",
    "            result.loc[len(result)] = [type, recipe_title, ingredients, planner_soup.getText(), health_banners]\n",
    "        except:\n",
    "            # TODO\n",
    "            print(\"find_all None error thing. Ignore this page\")\n",
    "    return result\n",
    "\n"
   ]
  },
  {
   "cell_type": "code",
   "execution_count": 8,
   "id": "8b8d2583",
   "metadata": {},
   "outputs": [],
   "source": [
    "def get_all_articles(url: str, n_items: int, driver: webdriver.Chrome = DRIVER):\n",
    "    if n_items > 40:\n",
    "        n_items = 31\n",
    "    parsed_articles = ''   \n",
    "    pages = math.ceil(n_items / 30)\n",
    "\n",
    "    for n_page in range(1,  pages):\n",
    "        if n_page < 2:\n",
    "            current_url = url\n",
    "        else: \n",
    "            current_url = url + \"&page=\" + str(n_page) \n",
    "        print(current_url)\n",
    "        driver.get(current_url)\n",
    "        elem = driver.find_element(By.CLASS_NAME, 'load-more-paginator__btn')\n",
    "        driver.execute_script(\"arguments[0].click();\", elem)\n",
    "        driver_parser = bs4.BeautifulSoup(driver.page_source)\n",
    "        list = driver_parser.find('div', attrs={'class': 'layout-md-rail__primary'})\n",
    "        parsed_articles = driver_parser.find_all('article', attrs={'class': 'card text-align-left card--horizontal card--inline card--with-borders'})\n",
    "        print(len(parsed_articles))\n",
    "\n",
    "    # for article in parsed_articles:\n",
    "    #     recipe_title = article.find('h2', attrs={'class': 'heading-4'}).getText()\n",
    "    #     print(recipe_title)\n",
    "    if parsed_articles == '':\n",
    "        print(\"A\")\n",
    "    return parsed_articles\n",
    "\n"
   ]
  },
  {
   "cell_type": "code",
   "execution_count": 9,
   "id": "e32bc458",
   "metadata": {},
   "outputs": [
    {
     "name": "stdout",
     "output_type": "stream",
     "text": [
      "https://www.bbcgoodfood.com/search?mealType=afternoon-tea\n",
      "30\n",
      "30\n"
     ]
    },
    {
     "name": "stderr",
     "output_type": "stream",
     "text": [
      "/var/folders/sh/41fnk4317z18sxj_vwp76hz40000gn/T/ipykernel_47158/2149236222.py:8: FutureWarning: The frame.append method is deprecated and will be removed from pandas in a future version. Use pandas.concat instead.\n",
      "  data = data.append(temp)\n",
      "/var/folders/sh/41fnk4317z18sxj_vwp76hz40000gn/T/ipykernel_47158/2149236222.py:8: FutureWarning: The frame.append method is deprecated and will be removed from pandas in a future version. Use pandas.concat instead.\n",
      "  data = data.append(temp)\n"
     ]
    },
    {
     "name": "stdout",
     "output_type": "stream",
     "text": [
      "A\n",
      "0\n",
      "https://www.bbcgoodfood.com/search?mealType=breakfast\n",
      "30\n",
      "30\n"
     ]
    },
    {
     "name": "stderr",
     "output_type": "stream",
     "text": [
      "/var/folders/sh/41fnk4317z18sxj_vwp76hz40000gn/T/ipykernel_47158/2149236222.py:8: FutureWarning: The frame.append method is deprecated and will be removed from pandas in a future version. Use pandas.concat instead.\n",
      "  data = data.append(temp)\n"
     ]
    },
    {
     "name": "stdout",
     "output_type": "stream",
     "text": [
      "https://www.bbcgoodfood.com/search?mealType=brunch\n",
      "30\n",
      "30\n"
     ]
    },
    {
     "name": "stderr",
     "output_type": "stream",
     "text": [
      "/var/folders/sh/41fnk4317z18sxj_vwp76hz40000gn/T/ipykernel_47158/2149236222.py:8: FutureWarning: The frame.append method is deprecated and will be removed from pandas in a future version. Use pandas.concat instead.\n",
      "  data = data.append(temp)\n"
     ]
    },
    {
     "name": "stdout",
     "output_type": "stream",
     "text": [
      "https://www.bbcgoodfood.com/search?mealType=buffet\n",
      "30\n",
      "30\n"
     ]
    },
    {
     "name": "stderr",
     "output_type": "stream",
     "text": [
      "/var/folders/sh/41fnk4317z18sxj_vwp76hz40000gn/T/ipykernel_47158/2149236222.py:8: FutureWarning: The frame.append method is deprecated and will be removed from pandas in a future version. Use pandas.concat instead.\n",
      "  data = data.append(temp)\n"
     ]
    },
    {
     "name": "stdout",
     "output_type": "stream",
     "text": [
      "https://www.bbcgoodfood.com/search?mealType=canapes\n",
      "29\n",
      "29\n",
      "find_all None error thing. Ignore this page\n"
     ]
    },
    {
     "name": "stderr",
     "output_type": "stream",
     "text": [
      "/var/folders/sh/41fnk4317z18sxj_vwp76hz40000gn/T/ipykernel_47158/2149236222.py:8: FutureWarning: The frame.append method is deprecated and will be removed from pandas in a future version. Use pandas.concat instead.\n",
      "  data = data.append(temp)\n",
      "/var/folders/sh/41fnk4317z18sxj_vwp76hz40000gn/T/ipykernel_47158/2149236222.py:8: FutureWarning: The frame.append method is deprecated and will be removed from pandas in a future version. Use pandas.concat instead.\n",
      "  data = data.append(temp)\n"
     ]
    },
    {
     "name": "stdout",
     "output_type": "stream",
     "text": [
      "A\n",
      "0\n",
      "https://www.bbcgoodfood.com/search?mealType=cocktails\n",
      "30\n",
      "30\n"
     ]
    },
    {
     "name": "stderr",
     "output_type": "stream",
     "text": [
      "/var/folders/sh/41fnk4317z18sxj_vwp76hz40000gn/T/ipykernel_47158/2149236222.py:8: FutureWarning: The frame.append method is deprecated and will be removed from pandas in a future version. Use pandas.concat instead.\n",
      "  data = data.append(temp)\n"
     ]
    },
    {
     "name": "stdout",
     "output_type": "stream",
     "text": [
      "https://www.bbcgoodfood.com/search?mealType=condiment\n",
      "30\n",
      "30\n"
     ]
    },
    {
     "name": "stderr",
     "output_type": "stream",
     "text": [
      "/var/folders/sh/41fnk4317z18sxj_vwp76hz40000gn/T/ipykernel_47158/2149236222.py:8: FutureWarning: The frame.append method is deprecated and will be removed from pandas in a future version. Use pandas.concat instead.\n",
      "  data = data.append(temp)\n"
     ]
    },
    {
     "name": "stdout",
     "output_type": "stream",
     "text": [
      "https://www.bbcgoodfood.com/search?mealType=dessert\n",
      "30\n",
      "30\n"
     ]
    },
    {
     "name": "stderr",
     "output_type": "stream",
     "text": [
      "/var/folders/sh/41fnk4317z18sxj_vwp76hz40000gn/T/ipykernel_47158/2149236222.py:8: FutureWarning: The frame.append method is deprecated and will be removed from pandas in a future version. Use pandas.concat instead.\n",
      "  data = data.append(temp)\n"
     ]
    },
    {
     "name": "stdout",
     "output_type": "stream",
     "text": [
      "https://www.bbcgoodfood.com/search?mealType=dinner\n",
      "30\n",
      "30\n"
     ]
    },
    {
     "name": "stderr",
     "output_type": "stream",
     "text": [
      "/var/folders/sh/41fnk4317z18sxj_vwp76hz40000gn/T/ipykernel_47158/2149236222.py:8: FutureWarning: The frame.append method is deprecated and will be removed from pandas in a future version. Use pandas.concat instead.\n",
      "  data = data.append(temp)\n"
     ]
    },
    {
     "name": "stdout",
     "output_type": "stream",
     "text": [
      "https://www.bbcgoodfood.com/search?mealType=drink\n",
      "30\n",
      "30\n"
     ]
    },
    {
     "name": "stderr",
     "output_type": "stream",
     "text": [
      "/var/folders/sh/41fnk4317z18sxj_vwp76hz40000gn/T/ipykernel_47158/2149236222.py:8: FutureWarning: The frame.append method is deprecated and will be removed from pandas in a future version. Use pandas.concat instead.\n",
      "  data = data.append(temp)\n"
     ]
    },
    {
     "name": "stdout",
     "output_type": "stream",
     "text": [
      "https://www.bbcgoodfood.com/search?mealType=fish-course\n",
      "30\n",
      "30\n"
     ]
    },
    {
     "name": "stderr",
     "output_type": "stream",
     "text": [
      "/var/folders/sh/41fnk4317z18sxj_vwp76hz40000gn/T/ipykernel_47158/2149236222.py:8: FutureWarning: The frame.append method is deprecated and will be removed from pandas in a future version. Use pandas.concat instead.\n",
      "  data = data.append(temp)\n"
     ]
    },
    {
     "name": "stdout",
     "output_type": "stream",
     "text": [
      "https://www.bbcgoodfood.com/search?mealType=lunch\n",
      "30\n",
      "30\n"
     ]
    },
    {
     "name": "stderr",
     "output_type": "stream",
     "text": [
      "/var/folders/sh/41fnk4317z18sxj_vwp76hz40000gn/T/ipykernel_47158/2149236222.py:8: FutureWarning: The frame.append method is deprecated and will be removed from pandas in a future version. Use pandas.concat instead.\n",
      "  data = data.append(temp)\n"
     ]
    },
    {
     "name": "stdout",
     "output_type": "stream",
     "text": [
      "https://www.bbcgoodfood.com/search?mealType=main-course\n",
      "30\n",
      "30\n"
     ]
    },
    {
     "name": "stderr",
     "output_type": "stream",
     "text": [
      "/var/folders/sh/41fnk4317z18sxj_vwp76hz40000gn/T/ipykernel_47158/2149236222.py:8: FutureWarning: The frame.append method is deprecated and will be removed from pandas in a future version. Use pandas.concat instead.\n",
      "  data = data.append(temp)\n"
     ]
    },
    {
     "name": "stdout",
     "output_type": "stream",
     "text": [
      "https://www.bbcgoodfood.com/search?mealType=pasta\n",
      "30\n",
      "30\n"
     ]
    },
    {
     "name": "stderr",
     "output_type": "stream",
     "text": [
      "/var/folders/sh/41fnk4317z18sxj_vwp76hz40000gn/T/ipykernel_47158/2149236222.py:8: FutureWarning: The frame.append method is deprecated and will be removed from pandas in a future version. Use pandas.concat instead.\n",
      "  data = data.append(temp)\n"
     ]
    },
    {
     "name": "stdout",
     "output_type": "stream",
     "text": [
      "https://www.bbcgoodfood.com/search?mealType=side-dish\n",
      "30\n",
      "30\n"
     ]
    },
    {
     "name": "stderr",
     "output_type": "stream",
     "text": [
      "/var/folders/sh/41fnk4317z18sxj_vwp76hz40000gn/T/ipykernel_47158/2149236222.py:8: FutureWarning: The frame.append method is deprecated and will be removed from pandas in a future version. Use pandas.concat instead.\n",
      "  data = data.append(temp)\n"
     ]
    },
    {
     "name": "stdout",
     "output_type": "stream",
     "text": [
      "https://www.bbcgoodfood.com/search?mealType=snack\n",
      "30\n",
      "30\n"
     ]
    },
    {
     "name": "stderr",
     "output_type": "stream",
     "text": [
      "/var/folders/sh/41fnk4317z18sxj_vwp76hz40000gn/T/ipykernel_47158/2149236222.py:8: FutureWarning: The frame.append method is deprecated and will be removed from pandas in a future version. Use pandas.concat instead.\n",
      "  data = data.append(temp)\n"
     ]
    },
    {
     "name": "stdout",
     "output_type": "stream",
     "text": [
      "https://www.bbcgoodfood.com/search?mealType=soup\n",
      "30\n",
      "30\n"
     ]
    },
    {
     "name": "stderr",
     "output_type": "stream",
     "text": [
      "/var/folders/sh/41fnk4317z18sxj_vwp76hz40000gn/T/ipykernel_47158/2149236222.py:8: FutureWarning: The frame.append method is deprecated and will be removed from pandas in a future version. Use pandas.concat instead.\n",
      "  data = data.append(temp)\n"
     ]
    },
    {
     "name": "stdout",
     "output_type": "stream",
     "text": [
      "https://www.bbcgoodfood.com/search?mealType=starter\n",
      "30\n",
      "30\n"
     ]
    },
    {
     "name": "stderr",
     "output_type": "stream",
     "text": [
      "/var/folders/sh/41fnk4317z18sxj_vwp76hz40000gn/T/ipykernel_47158/2149236222.py:8: FutureWarning: The frame.append method is deprecated and will be removed from pandas in a future version. Use pandas.concat instead.\n",
      "  data = data.append(temp)\n"
     ]
    },
    {
     "name": "stdout",
     "output_type": "stream",
     "text": [
      "https://www.bbcgoodfood.com/search?mealType=supper\n",
      "30\n",
      "30\n"
     ]
    },
    {
     "name": "stderr",
     "output_type": "stream",
     "text": [
      "/var/folders/sh/41fnk4317z18sxj_vwp76hz40000gn/T/ipykernel_47158/2149236222.py:8: FutureWarning: The frame.append method is deprecated and will be removed from pandas in a future version. Use pandas.concat instead.\n",
      "  data = data.append(temp)\n"
     ]
    },
    {
     "name": "stdout",
     "output_type": "stream",
     "text": [
      "https://www.bbcgoodfood.com/search?mealType=treat\n",
      "30\n",
      "30\n"
     ]
    },
    {
     "name": "stderr",
     "output_type": "stream",
     "text": [
      "/var/folders/sh/41fnk4317z18sxj_vwp76hz40000gn/T/ipykernel_47158/2149236222.py:8: FutureWarning: The frame.append method is deprecated and will be removed from pandas in a future version. Use pandas.concat instead.\n",
      "  data = data.append(temp)\n"
     ]
    },
    {
     "name": "stdout",
     "output_type": "stream",
     "text": [
      "https://www.bbcgoodfood.com/search?mealType=vegetable\n",
      "30\n",
      "30\n",
      "A\n",
      "0\n",
      "A\n",
      "0\n",
      "A\n",
      "0\n"
     ]
    },
    {
     "name": "stderr",
     "output_type": "stream",
     "text": [
      "/var/folders/sh/41fnk4317z18sxj_vwp76hz40000gn/T/ipykernel_47158/2149236222.py:8: FutureWarning: The frame.append method is deprecated and will be removed from pandas in a future version. Use pandas.concat instead.\n",
      "  data = data.append(temp)\n",
      "/var/folders/sh/41fnk4317z18sxj_vwp76hz40000gn/T/ipykernel_47158/2149236222.py:8: FutureWarning: The frame.append method is deprecated and will be removed from pandas in a future version. Use pandas.concat instead.\n",
      "  data = data.append(temp)\n",
      "/var/folders/sh/41fnk4317z18sxj_vwp76hz40000gn/T/ipykernel_47158/2149236222.py:8: FutureWarning: The frame.append method is deprecated and will be removed from pandas in a future version. Use pandas.concat instead.\n",
      "  data = data.append(temp)\n",
      "/var/folders/sh/41fnk4317z18sxj_vwp76hz40000gn/T/ipykernel_47158/2149236222.py:8: FutureWarning: The frame.append method is deprecated and will be removed from pandas in a future version. Use pandas.concat instead.\n",
      "  data = data.append(temp)\n"
     ]
    }
   ],
   "source": [
    "def generate_csv():\n",
    "    data = pd.DataFrame(columns=['type', 'name', 'ingredients', 'difficulty', \"health_banners\"])\n",
    "# data = data.append(generate_dataset(categories.iloc[0][ \"type\"], categories.iloc[0][\"url\"], categories.iloc[0][\"number\"]))\n",
    "# data.to_csv(r\"/Users/arina/study/ds/project/food_recommendation/input/bcc_goodfood/data_goodfood_bbc.csv\", sep=\"\\t\", index=False)\n",
    "\n",
    "    for i, row in categories.iterrows():\n",
    "        temp = generate_dataset(row[\"type\"], row[\"url\"], row[\"number\"])\n",
    "        data = data.append(temp)\n",
    "        data.to_csv(r\"/Users/arina/study/ds/project/food_recommendation/input/bcc_goodfood/data_goodfood_bbc_short.csv\", sep=\"\\t\", index=False)\n",
    "generate_csv()"
   ]
  },
  {
   "cell_type": "code",
   "execution_count": null,
   "id": "260953f2",
   "metadata": {},
   "outputs": [],
   "source": []
  },
  {
   "cell_type": "code",
   "execution_count": 10,
   "id": "6c16d565",
   "metadata": {},
   "outputs": [],
   "source": [
    "def generate_dataset(type, subtype, url):\n",
    "        \"\"\"\n",
    "            ['type', 'recipe_title', 'ingredients']. \n",
    "        \"\"\"\n",
    "        final = pd.DataFrame(columns=['type', 'subtype', 'name', 'ingredients'])\n",
    "        page_count = get_last_page(url)\n",
    "        for i in range(1, page_count):\n",
    "            sub_category = url + \"?page=\" + str(i)\n",
    "            print(sub_category)\n",
    "            page = \"\"\n",
    "            while page == \"\":\n",
    "                try:\n",
    "                    page = requests.get(sub_category)\n",
    "                    break\n",
    "                except requests.exceptions.ConnectionError:\n",
    "                    print(\"Connection refused by server...\")\n",
    "                    print(\"Sleeping for 5 seconds...\")\n",
    "                    time.sleep(5)\n",
    "                    continue\n",
    "            soup = BeautifulSoup(page.content, 'lxml')\n",
    "            grid = soup.find('div', attrs={'class': 'fixed-grid'})\n",
    "            articles = grid.find_all('article', attrs={'class': 'fixed-recipe-card'})\n",
    "            j = 0\n",
    "            for article in articles:\n",
    "                ingredients = []\n",
    "                recipe_url = article.find('a').get('href')\n",
    "                recipe_title = article.find('span', attrs={'class': 'fixed-recipe-card__title-link'}).getText()\n",
    "                recipe_request = \"\"\n",
    "                while recipe_request == \"\":\n",
    "                    try:\n",
    "                        recipe_request = requests.get(recipe_url)\n",
    "                        break\n",
    "                    except requests.exceptions.ConnectionError:\n",
    "                        print(\"Connection refused by server...\")\n",
    "                        print(\"Sleeping for 5 seconds...\")\n",
    "                        time.sleep(5)\n",
    "                        continue\n",
    "                recipe_soup = BeautifulSoup(recipe_request.content, 'lxml')\n",
    "                ingredients_space = recipe_soup.find('div', attrs={'id': 'polaris-app'})\n",
    "                try:\n",
    "                    ingredients_soup = ingredients_space.find_all('label', attrs={'ng-class': '{true: \\'checkList__item\\'}[true]'})\n",
    "    \n",
    "                    for ingredient in range(len(ingredients_soup)):\n",
    "                        ingredients.append(ingredients_soup[ingredient]['title'])\n",
    "    \n",
    "                    j = j + 1\n",
    "                    final.loc[len(final)] = [type, subtype, recipe_title, ingredients]\n",
    "                except:\n",
    "                    print(\"find_all None error thing. Ignore this page\")\n",
    "        return final"
   ]
  },
  {
   "cell_type": "code",
   "execution_count": 11,
   "id": "1b62f6ba",
   "metadata": {},
   "outputs": [],
   "source": [
    "# parallel"
   ]
  },
  {
   "cell_type": "code",
   "execution_count": 12,
   "id": "28e5a2db",
   "metadata": {},
   "outputs": [
    {
     "ename": "ImportError",
     "evalue": "cannot import name 'ThreadForestExecutor' from 'concurrent.futures' (/Users/arina/miniconda3/envs/class_1/lib/python3.10/concurrent/futures/__init__.py)",
     "output_type": "error",
     "traceback": [
      "\u001b[0;31m---------------------------------------------------------------------------\u001b[0m",
      "\u001b[0;31mImportError\u001b[0m                               Traceback (most recent call last)",
      "Cell \u001b[0;32mIn[12], line 1\u001b[0m\n\u001b[0;32m----> 1\u001b[0m \u001b[38;5;28;01mfrom\u001b[39;00m \u001b[38;5;21;01mconcurrent\u001b[39;00m\u001b[38;5;21;01m.\u001b[39;00m\u001b[38;5;21;01mfutures\u001b[39;00m \u001b[38;5;28;01mimport\u001b[39;00m ThreadForestExecutor \n",
      "\u001b[0;31mImportError\u001b[0m: cannot import name 'ThreadForestExecutor' from 'concurrent.futures' (/Users/arina/miniconda3/envs/class_1/lib/python3.10/concurrent/futures/__init__.py)"
     ]
    }
   ],
   "source": [
    "from concurrent.futures import ThreadForestExecutor "
   ]
  },
  {
   "cell_type": "code",
   "execution_count": null,
   "id": "3018f3a7",
   "metadata": {},
   "outputs": [],
   "source": [
    "with ThreadPoolExecutor(max_workers=15) as executor:\n",
    "    results = executor.map(function, arg_list1)"
   ]
  },
  {
   "cell_type": "code",
   "execution_count": null,
   "id": "8fd7d8be",
   "metadata": {},
   "outputs": [],
   "source": [
    "# def generate_dataset(type: str, url: str, n_items: int, basic_url: str = BASIC_URL, search_url: str = SEARCH_URL) -> pd.DataFrame:\n",
    "#     result = pd.DataFrame(columns=['type', 'name', 'ingredients', 'difficulty'])\n",
    "\n",
    "#     pages = math.ceil(n_items / 30)\n",
    "\n",
    "#     for n_page in range(1,  pages):\n",
    "#         if n_page < 2:\n",
    "#             current_url = url\n",
    "#         else: \n",
    "#             current_url = url + \"?page=\" + str(n_page) \n",
    "#         page = \"\"\n",
    "#         print(current_url)\n",
    "#         while page == \"\":\n",
    "#             try:\n",
    "#                 page = requests.get(current_url)\n",
    "#                 break\n",
    "#             except requests.exceptions.ConnectionError:\n",
    "#                 # TODO\n",
    "#                 print(\"e\")\n",
    "#                 time.sleep(5)\n",
    "#                 continue\n",
    "#         parser = bs4.BeautifulSoup(page.text)\n",
    "#         list = parser.find('div', attrs={'class': 'layout-md-rail__primary'})\n",
    "#         articles = parser.find_all('article', attrs={'class': 'card text-align-left card--horizontal card--inline card--with-borders'})\n",
    "\n",
    "#         print(len(articles))\n",
    "#         j = 0\n",
    "#         for article in articles:\n",
    "#             ingredients = []\n",
    "#             recipe_url = article.find('a').get('href')\n",
    "#             recipe_title = article.find('h2', attrs={'class': 'heading-4'}).getText()\n",
    "#             print(recipe_title)\n",
    "#             recipe_request = \"\"\n",
    "#             while recipe_request == \"\":\n",
    "#                 try:\n",
    "#                     recipe_request = requests.get(basic_url + recipe_url)\n",
    "#                     break\n",
    "#                 except requests.exceptions.ConnectionError:\n",
    "#                     # TODO\n",
    "#                     print(\"exc\")\n",
    "#                     time.sleep(5)\n",
    "#                     continue\n",
    "#             recipe_parser = bs4.BeautifulSoup(recipe_request.text)\n",
    "#             ingredients_space = recipe_parser.find('section', attrs={'class': 'recipe__ingredients'})\n",
    "\n",
    "#             planner_space = recipe_parser.find('ul', attrs={'class': 'post-header__planning'})\n",
    "#             try:\n",
    "#                 ingredients_soup = ingredients_space.find_all('li', attrs={'class': 'pb-xxs pt-xxs list-item list-item--separator'})\n",
    "#                 for ingredient in range(len(ingredients_soup)):\n",
    "#                     ingredients.append(ingredients_soup[ingredient].getText())\n",
    "                \n",
    "#                 planner_soup = planner_space.find('div', attrs={'class': 'post-header__skill-level'})\n",
    "#                 j = j + 1\n",
    "                \n",
    "#                 result.loc[len(result)] = [type, recipe_title, ingredients, planner_soup.getText()]\n",
    "#             except:\n",
    "#                 # TODO\n",
    "#                 print(\"find_all None error thing. Ignore this page\")\n",
    "#     return result\n"
   ]
  },
  {
   "cell_type": "code",
   "execution_count": null,
   "id": "ae39e929",
   "metadata": {},
   "outputs": [],
   "source": [
    "# from selenium import webdriver\n",
    "# from selenium.webdriver.common.by import By\n",
    "# from time import sleep\n",
    "\n",
    "# def get_cpf():\n",
    "#     driver = webdriver.Chrome(\"/home/felipe/Downloads/chromedriver\")\n",
    "#     driver.get('https://www.bbcgoodfood.com/search?tab=recipe&mealType=afternoon-tea')\n",
    "#     elem = driver.find_element(By.CLASS_NAME, 'load-more-paginator__btn')\n",
    "#     elem1 = driver.execute_script(\"arguments[0].click();\", elem)\n",
    "#     parser = bs4.BeautifulSoup(driver.page_source)\n",
    "#     list = parser.find('div', attrs={'class': 'layout-md-rail__primary'})\n",
    "#     articles = parser.find_all('article', attrs={'class': 'card text-align-left card--horizontal card--inline card--with-borders'})\n",
    "\n",
    "#     print(len(articles))\n",
    "\n",
    "#     for article in articles:\n",
    "#         recipe_title = article.find('h2', attrs={'class': 'heading-4'}).getText()\n",
    "#         print(recipe_title)\n",
    "\n",
    "#     driver.get('https://www.bbcgoodfood.com/search?tab=recipe&mealType=afternoon-tea&page=2')\n",
    "#     elem = driver.find_element(By.CLASS_NAME, 'load-more-paginator__btn')\n",
    "#     elem1 = driver.execute_script(\"arguments[0].click();\", elem)\n",
    "#     # print(driver.page_source)\n",
    "#     parser = bs4.BeautifulSoup(driver.page_source)\n",
    "#     list = parser.find('div', attrs={'class': 'layout-md-rail__primary'})\n",
    "#     articles = parser.find_all('article', attrs={'class': 'card text-align-left card--horizontal card--inline card--with-borders'})\n",
    "\n",
    "#     print(len(articles))\n",
    "\n",
    "#     for article in articles:\n",
    "#         recipe_title = article.find('h2', attrs={'class': 'heading-4'}).getText()\n",
    "#         print(recipe_title)\n",
    "#     # text=driver.find_elements(By.CLASS_NAME, 'card__content')\n",
    "#     # print(text)\n",
    "# get_cpf()"
   ]
  },
  {
   "cell_type": "code",
   "execution_count": null,
   "id": "33cb1a00",
   "metadata": {},
   "outputs": [],
   "source": [
    "# def generate_dataset(type: str, url: str, n_items: int, basic_url: str = BASIC_URL, search_url: str = SEARCH_URL, driver: ChromeDriver = DRIVER) -> pd.DataFrame:\n",
    "#     result = pd.DataFrame(columns=['type', 'name', 'ingredients', 'difficulty'])\n",
    "\n",
    "#     articles = get_all_articles(url, n_items)\n",
    "#     print(a)\n",
    "#     # pages = math.ceil(n_items / 30)\n",
    "\n",
    "#     # for n_page in range(1,  pages):\n",
    "#     #     if n_page < 2:\n",
    "#     #         current_url = url\n",
    "#     #     else: \n",
    "#     #         current_url = url + \"?page=\" + str(n_page) \n",
    "#     #     page = \"\"\n",
    "#     #     print(current_url)\n",
    "#     #     while page == \"\":\n",
    "#     #         try:\n",
    "#     #             page = requests.get(current_url)\n",
    "#     #             break\n",
    "#     #         except requests.exceptions.ConnectionError:\n",
    "#     #             # TODO\n",
    "#     #             print(\"e\")\n",
    "#     #             time.sleep(5)\n",
    "#     #             continue\n",
    "#     #     parser = bs4.BeautifulSoup(page.text)\n",
    "#     #     list = parser.find('div', attrs={'class': 'layout-md-rail__primary'})\n",
    "#         # articles = parser.find_all('article', attrs={'class': 'card text-align-left card--horizontal card--inline card--with-borders'})\n",
    "\n",
    "#         print(len(articles))\n",
    "#         j = 0\n",
    "#         for article in articles:\n",
    "#             ingredients = []\n",
    "#             recipe_url = article.find('a').get('href')\n",
    "#             recipe_title = article.find('h2', attrs={'class': 'heading-4'}).getText()\n",
    "#             print(recipe_title)\n",
    "#             recipe_request = \"\"\n",
    "#             while recipe_request == \"\":\n",
    "#                 try:\n",
    "#                     recipe_request = requests.get(basic_url + recipe_url)\n",
    "#                     break\n",
    "#                 except requests.exceptions.ConnectionError:\n",
    "#                     # TODO\n",
    "#                     print(\"exc\")\n",
    "#                     time.sleep(5)\n",
    "#                     continue\n",
    "#             recipe_parser = bs4.BeautifulSoup(recipe_request.text)\n",
    "#             ingredients_space = recipe_parser.find('section', attrs={'class': 'recipe__ingredients'})\n",
    "\n",
    "#             planner_space = recipe_parser.find('ul', attrs={'class': 'post-header__planning'})\n",
    "#             try:\n",
    "#                 ingredients_soup = ingredients_space.find_all('li', attrs={'class': 'pb-xxs pt-xxs list-item list-item--separator'})\n",
    "#                 for ingredient in range(len(ingredients_soup)):\n",
    "#                     ingredients.append(ingredients_soup[ingredient].getText())\n",
    "                \n",
    "#                 planner_soup = planner_space.find('div', attrs={'class': 'post-header__skill-level'})\n",
    "#                 j = j + 1\n",
    "                \n",
    "#                 result.loc[len(result)] = [type, recipe_title, ingredients, planner_soup.getText()]\n",
    "#             except:\n",
    "#                 # TODO\n",
    "#                 print(\"find_all None error thing. Ignore this page\")\n",
    "#     return result\n"
   ]
  }
 ],
 "metadata": {
  "interpreter": {
   "hash": "27937a2138fba19a6ccb9727971d0c2b47268ccc771a8245ed453686f747a7ef"
  },
  "kernelspec": {
   "display_name": "Python 3.10.9 ('class_1')",
   "language": "python",
   "name": "python3"
  },
  "language_info": {
   "codemirror_mode": {
    "name": "ipython",
    "version": 3
   },
   "file_extension": ".py",
   "mimetype": "text/x-python",
   "name": "python",
   "nbconvert_exporter": "python",
   "pygments_lexer": "ipython3",
   "version": "3.10.9"
  }
 },
 "nbformat": 4,
 "nbformat_minor": 5
}
