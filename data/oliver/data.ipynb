{
 "cells": [
  {
   "cell_type": "code",
   "execution_count": 9,
   "metadata": {},
   "outputs": [],
   "source": [
    "import pandas as pd\n",
    "import requests\n",
    "import bs4\n",
    "import time\n",
    "import numpy as np"
   ]
  },
  {
   "cell_type": "code",
   "execution_count": 10,
   "id": "9bd758b0",
   "metadata": {},
   "outputs": [],
   "source": [
    "url = 'https://www.jamieoliver.com/recipes/category/course/mains/'\n",
    "response = requests.get(url=url)\n",
    "parser = bs4.BeautifulSoup(response.text)"
   ]
  },
  {
   "cell_type": "code",
   "execution_count": 11,
   "id": "e723cc0b",
   "metadata": {},
   "outputs": [
    {
     "data": {
      "text/plain": [
       "200"
      ]
     },
     "execution_count": 11,
     "metadata": {},
     "output_type": "execute_result"
    }
   ],
   "source": [
    "response.status_code\n"
   ]
  },
  {
   "cell_type": "code",
   "execution_count": 12,
   "id": "17d38a62",
   "metadata": {},
   "outputs": [],
   "source": [
    "links = parser.find_all(\"a\")\n",
    "recipes = parser.find('div', attrs={'class': 'row recipe-row infinite-scroll'})"
   ]
  },
  {
   "cell_type": "code",
   "execution_count": 13,
   "id": "23146f0e",
   "metadata": {},
   "outputs": [
    {
     "data": {
      "text/plain": [
       "0         /recipes/vegetable-recipes/asparagus-stir-fry/\n",
       "1          /recipes/fish-recipes/sweet-potato-fishcakes/\n",
       "2          /recipes/chicken-recipes/spring-chicken-stew/\n",
       "3              /recipes/chicken-recipes/chicken-goujons/\n",
       "4      /recipes/vegetable-recipes/sweet-and-sour-stir...\n",
       "                             ...                        \n",
       "898    /recipes/chicken-recipes/chicken-squash-caccia...\n",
       "899    /recipes/vegetables-recipes/apple-amp-lancashi...\n",
       "900    /recipes/chicken-recipes/all-in-one-rice-amp-c...\n",
       "901          /recipes/vegetables-recipes/aubergine-daal/\n",
       "902    https://www.jamieoliver.com/recipes/category/c...\n",
       "Length: 903, dtype: object"
      ]
     },
     "execution_count": 13,
     "metadata": {},
     "output_type": "execute_result"
    }
   ],
   "source": [
    "recipe_urls = pd.Series([a.get(\"href\") for a in recipes.find_all(\"a\")])\n",
    "recipe_urls"
   ]
  },
  {
   "cell_type": "code",
   "execution_count": 14,
   "id": "7853f8cd",
   "metadata": {},
   "outputs": [],
   "source": [
    "recipe_urls = recipe_urls[\n",
    "    (recipe_urls.str.startswith(\"https\") == False)\n",
    "].unique()"
   ]
  },
  {
   "cell_type": "code",
   "execution_count": 15,
   "id": "22a7f745",
   "metadata": {},
   "outputs": [
    {
     "data": {
      "text/plain": [
       "901"
      ]
     },
     "execution_count": 15,
     "metadata": {},
     "output_type": "execute_result"
    }
   ],
   "source": [
    "len(recipe_urls)"
   ]
  },
  {
   "cell_type": "code",
   "execution_count": 16,
   "id": "17e40181",
   "metadata": {},
   "outputs": [],
   "source": [
    "recipe_url_df = pd.DataFrame( {\"recipe_urls\" : recipe_urls} )\n",
    "recipe_url_df['recipe_urls'] = \"https://www.jamieoliver.com\" + recipe_url_df['recipe_urls'].astype('str')"
   ]
  },
  {
   "cell_type": "code",
   "execution_count": 17,
   "id": "43c37886",
   "metadata": {},
   "outputs": [],
   "source": [
    "recipe_url_df.to_csv(r\"/Users/arina/study/ds/project/food_recommendation/input/oliver/recipe_urls.csv\", \n",
    "sep=\"\\t\", index=False)"
   ]
  },
  {
   "cell_type": "code",
   "execution_count": 19,
   "id": "f963d159",
   "metadata": {},
   "outputs": [
    {
     "data": {
      "text/html": [
       "<div>\n",
       "<style scoped>\n",
       "    .dataframe tbody tr th:only-of-type {\n",
       "        vertical-align: middle;\n",
       "    }\n",
       "\n",
       "    .dataframe tbody tr th {\n",
       "        vertical-align: top;\n",
       "    }\n",
       "\n",
       "    .dataframe thead th {\n",
       "        text-align: right;\n",
       "    }\n",
       "</style>\n",
       "<table border=\"1\" class=\"dataframe\">\n",
       "  <thead>\n",
       "    <tr style=\"text-align: right;\">\n",
       "      <th></th>\n",
       "      <th>recipe_urls</th>\n",
       "    </tr>\n",
       "  </thead>\n",
       "  <tbody>\n",
       "    <tr>\n",
       "      <th>0</th>\n",
       "      <td>https://www.jamieoliver.com/recipes/vegetable-...</td>\n",
       "    </tr>\n",
       "    <tr>\n",
       "      <th>1</th>\n",
       "      <td>https://www.jamieoliver.com/recipes/fish-recip...</td>\n",
       "    </tr>\n",
       "    <tr>\n",
       "      <th>2</th>\n",
       "      <td>https://www.jamieoliver.com/recipes/chicken-re...</td>\n",
       "    </tr>\n",
       "    <tr>\n",
       "      <th>3</th>\n",
       "      <td>https://www.jamieoliver.com/recipes/chicken-re...</td>\n",
       "    </tr>\n",
       "    <tr>\n",
       "      <th>4</th>\n",
       "      <td>https://www.jamieoliver.com/recipes/vegetable-...</td>\n",
       "    </tr>\n",
       "    <tr>\n",
       "      <th>...</th>\n",
       "      <td>...</td>\n",
       "    </tr>\n",
       "    <tr>\n",
       "      <th>896</th>\n",
       "      <td>https://www.jamieoliver.com/recipes/vegetables...</td>\n",
       "    </tr>\n",
       "    <tr>\n",
       "      <th>897</th>\n",
       "      <td>https://www.jamieoliver.com/recipes/chicken-re...</td>\n",
       "    </tr>\n",
       "    <tr>\n",
       "      <th>898</th>\n",
       "      <td>https://www.jamieoliver.com/recipes/vegetables...</td>\n",
       "    </tr>\n",
       "    <tr>\n",
       "      <th>899</th>\n",
       "      <td>https://www.jamieoliver.com/recipes/chicken-re...</td>\n",
       "    </tr>\n",
       "    <tr>\n",
       "      <th>900</th>\n",
       "      <td>https://www.jamieoliver.com/recipes/vegetables...</td>\n",
       "    </tr>\n",
       "  </tbody>\n",
       "</table>\n",
       "<p>901 rows × 1 columns</p>\n",
       "</div>"
      ],
      "text/plain": [
       "                                           recipe_urls\n",
       "0    https://www.jamieoliver.com/recipes/vegetable-...\n",
       "1    https://www.jamieoliver.com/recipes/fish-recip...\n",
       "2    https://www.jamieoliver.com/recipes/chicken-re...\n",
       "3    https://www.jamieoliver.com/recipes/chicken-re...\n",
       "4    https://www.jamieoliver.com/recipes/vegetable-...\n",
       "..                                                 ...\n",
       "896  https://www.jamieoliver.com/recipes/vegetables...\n",
       "897  https://www.jamieoliver.com/recipes/chicken-re...\n",
       "898  https://www.jamieoliver.com/recipes/vegetables...\n",
       "899  https://www.jamieoliver.com/recipes/chicken-re...\n",
       "900  https://www.jamieoliver.com/recipes/vegetables...\n",
       "\n",
       "[901 rows x 1 columns]"
      ]
     },
     "execution_count": 19,
     "metadata": {},
     "output_type": "execute_result"
    }
   ],
   "source": [
    "recipe_url_df"
   ]
  },
  {
   "cell_type": "code",
   "execution_count": null,
   "id": "05bcfcf1",
   "metadata": {},
   "outputs": [
    {
     "name": "stdout",
     "output_type": "stream",
     "text": [
      "<h1 class=\"hidden-xs\">Beautiful courgette carbonara</h1>\n"
     ]
    }
   ],
   "source": [
    "url = 'https://www.jamieoliver.com/recipes/pasta-recipes/beautiful-courgette-penne-carbonara/'\n",
    "soup = bs4.BeautifulSoup(requests.get(url).content)\n",
    "print(soup.find(\"h1\").text.strip())"
   ]
  },
  {
   "cell_type": "code",
   "execution_count": null,
   "id": "57fc9926",
   "metadata": {},
   "outputs": [
    {
     "name": "stdout",
     "output_type": "stream",
     "text": [
      "['6 medium green and yellow courgettes', '500 g penne', '4 large eggs', '100 ml single cream', '1 small handful of Parmesan cheese', 'olive oil', '6 slices of back bacon', '½ a bunch of fresh thyme , (15g)', 'a few courgette flowers , (optional)']\n"
     ]
    }
   ],
   "source": [
    "ingredients = []\n",
    "for li in soup.select(\".ingred-list li\"):\n",
    "    ingred = \" \".join(li.text.split())\n",
    "    ingredients.append(ingred)\n",
    "print(ingredients)"
   ]
  },
  {
   "cell_type": "code",
   "execution_count": 24,
   "id": "5969f195",
   "metadata": {},
   "outputs": [],
   "source": [
    "class JamieOliver():\n",
    "    def __init__(self, url):\n",
    "        self.url = url \n",
    "        self.soup = bs4.BeautifulSoup(requests.get(url).content)\n",
    "    \n",
    "    def recipe_name(self):\n",
    "        try:\n",
    "            return self.soup.find('h1').text.strip()\n",
    "        except: \n",
    "            return np.nan\n",
    "        \n",
    "    def serves(self):\n",
    "        try:\n",
    "            return self.soup.find('div', {'class': 'recipe-detail serves'}).text.split(' ',1)[1]\n",
    "        except:\n",
    "            return np.nan \n",
    "\n",
    "    def cooking_time(self):\n",
    "        try:\n",
    "            return self.soup.find('div', {'class': 'recipe-detail time'}).text.split('In')[1]\n",
    "        except:\n",
    "            return np.nan\n",
    "\n",
    "\n",
    "    def difficulty(self):\n",
    "        try:\n",
    "            return self.soup.find('div', {'class': 'col-md-12 recipe-details-col remove-left-col-padding-md'}).text.split('Difficulty')[1]\n",
    "        except:\n",
    "            return np.nan\n",
    "\n",
    "    def ingredients(self):\n",
    "        try:\n",
    "            ingredients = [] \n",
    "            for li in self.soup.select('.ingred-list li'):\n",
    "                ingred = ' '.join(li.text.split())\n",
    "                ingredients.append(ingred)\n",
    "            return ingredients\n",
    "        except:\n",
    "            return np.nan"
   ]
  },
  {
   "cell_type": "code",
   "execution_count": 28,
   "id": "5e7db53f",
   "metadata": {},
   "outputs": [
    {
     "name": "stdout",
     "output_type": "stream",
     "text": [
      "Step 0 completed\n",
      "Step 25 completed\n",
      "Step 50 completed\n",
      "Step 75 completed\n",
      "Step 100 completed\n",
      "Step 125 completed\n",
      "Step 150 completed\n",
      "Step 175 completed\n",
      "Step 200 completed\n",
      "Step 225 completed\n",
      "Step 250 completed\n",
      "Step 275 completed\n",
      "Step 300 completed\n",
      "Step 325 completed\n",
      "Step 350 completed\n",
      "Step 375 completed\n",
      "Step 400 completed\n",
      "Step 425 completed\n",
      "Step 450 completed\n",
      "Step 475 completed\n",
      "Step 500 completed\n",
      "Step 525 completed\n",
      "Step 550 completed\n",
      "Step 575 completed\n",
      "Step 600 completed\n",
      "Step 625 completed\n",
      "Step 650 completed\n",
      "Step 675 completed\n",
      "Step 700 completed\n",
      "Step 725 completed\n",
      "Step 750 completed\n",
      "Step 775 completed\n",
      "Step 800 completed\n",
      "Step 825 completed\n",
      "Step 850 completed\n",
      "Step 875 completed\n",
      "Step 900 completed\n"
     ]
    }
   ],
   "source": [
    "\n",
    "# Reads in the csv containing each recipes url\n",
    "recipe_df = pd.read_csv(\"/Users/arina/study/ds/project/food_recommendation/input/oliver/recipe_urls.csv\")\n",
    "# The list of recipe attributes we want to scrape\n",
    "attribs = ['recipe_name', 'serves', 'cooking_time', 'difficulty', 'ingredients']\n",
    "\n",
    "# For each url (i) we add the attribute data to the i-th row\n",
    "temp = pd.DataFrame(columns=attribs)\n",
    "for i in range(0, len(recipe_df['recipe_urls'])):\n",
    "    url = recipe_df['recipe_urls'][i]\n",
    "    recipe_scraper = JamieOliver(url)\n",
    "    temp.loc[i] = [getattr(recipe_scraper, attrib)() for attrib in attribs]\n",
    "    if i % 25 == 0:\n",
    "        print(f'Step {i} completed')\n",
    "    time.sleep(0.005)\n",
    "\n",
    "temp['recipe_urls'] = recipe_df['recipe_urls']\n",
    "columns = ['recipe_urls'] + attribs\n",
    "temp = temp[columns]"
   ]
  },
  {
   "cell_type": "code",
   "execution_count": 29,
   "id": "e1c8d0af",
   "metadata": {},
   "outputs": [],
   "source": [
    "temp.to_csv(r\"/Users/arina/study/ds/project/food_recommendation/input/oliver/oliver_ds.csv\", index=False)"
   ]
  }
 ],
 "metadata": {
  "interpreter": {
   "hash": "27937a2138fba19a6ccb9727971d0c2b47268ccc771a8245ed453686f747a7ef"
  },
  "kernelspec": {
   "display_name": "Python 3.10.9 ('class_1')",
   "language": "python",
   "name": "python3"
  },
  "language_info": {
   "codemirror_mode": {
    "name": "ipython",
    "version": 3
   },
   "file_extension": ".py",
   "mimetype": "text/x-python",
   "name": "python",
   "nbconvert_exporter": "python",
   "pygments_lexer": "ipython3",
   "version": "3.10.9"
  }
 },
 "nbformat": 4,
 "nbformat_minor": 5
}
