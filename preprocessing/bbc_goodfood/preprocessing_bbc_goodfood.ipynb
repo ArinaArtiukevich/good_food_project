{
 "cells": [
  {
   "cell_type": "code",
   "execution_count": 23,
   "id": "d776f7c8",
   "metadata": {},
   "outputs": [],
   "source": [
    "import pandas as pd\n",
    "from typing import List"
   ]
  },
  {
   "cell_type": "code",
   "execution_count": 2,
   "id": "4e5e9561",
   "metadata": {},
   "outputs": [],
   "source": [
    "MEASURES = ['cup', 'tsp', 'tbsp', 'c' , 'fl oz', 'pt', 'qt', 'gal', 'g', 'kg', 'mg', 'oz', 'lb', 'slice', 'piece', 'pinch', 'dash', 'whole', 'dozen', 'count', 'pkg', 'can', 'jar', 'carton', 'stick', 'drop', 'cm', 'm', 'ml', 'l', 'x']\n",
    "STOP_WORDS = ['a', 'an', 'the', 'in', 'on', 'at', 'for', 'of', 'with', 'to', 'from', 'by', 'as', 'is', 'are', 'was', 'were', 'has', 'have', 'had']\n",
    "DATA_CSV_PATH = '/Users/arina/study/ds/project/food_recommendation/input/bcc_goodfood/data_goodfood_bbc_short.csv' "
   ]
  },
  {
   "cell_type": "code",
   "execution_count": 3,
   "id": "8e4e0377",
   "metadata": {},
   "outputs": [],
   "source": [
    "df = pd.read_csv(DATA_CSV_PATH, sep='\\t')"
   ]
  },
  {
   "cell_type": "code",
   "execution_count": 4,
   "id": "2a37b619",
   "metadata": {},
   "outputs": [
    {
     "data": {
      "text/html": [
       "<div>\n",
       "<style scoped>\n",
       "    .dataframe tbody tr th:only-of-type {\n",
       "        vertical-align: middle;\n",
       "    }\n",
       "\n",
       "    .dataframe tbody tr th {\n",
       "        vertical-align: top;\n",
       "    }\n",
       "\n",
       "    .dataframe thead th {\n",
       "        text-align: right;\n",
       "    }\n",
       "</style>\n",
       "<table border=\"1\" class=\"dataframe\">\n",
       "  <thead>\n",
       "    <tr style=\"text-align: right;\">\n",
       "      <th></th>\n",
       "      <th>type</th>\n",
       "      <th>name</th>\n",
       "      <th>ingredients</th>\n",
       "      <th>difficulty</th>\n",
       "      <th>health_banners</th>\n",
       "    </tr>\n",
       "  </thead>\n",
       "  <tbody>\n",
       "    <tr>\n",
       "      <th>0</th>\n",
       "      <td>afternoon-tea</td>\n",
       "      <td>Lemon drizzle cake</td>\n",
       "      <td>['225g unsalted butter,  softened', '225g cast...</td>\n",
       "      <td>Easy</td>\n",
       "      <td>['Freezable']</td>\n",
       "    </tr>\n",
       "    <tr>\n",
       "      <th>1</th>\n",
       "      <td>afternoon-tea</td>\n",
       "      <td>Best ever chocolate brownies recipe</td>\n",
       "      <td>['185g unsalted butter', '185g best dark choco...</td>\n",
       "      <td>More effort</td>\n",
       "      <td>[]</td>\n",
       "    </tr>\n",
       "    <tr>\n",
       "      <th>2</th>\n",
       "      <td>afternoon-tea</td>\n",
       "      <td>Classic Victoria sandwich recipe</td>\n",
       "      <td>['200g caster sugar', '200g softened butter', ...</td>\n",
       "      <td>Easy</td>\n",
       "      <td>['Freezable (Cake base freezes well for 3 mont...</td>\n",
       "    </tr>\n",
       "    <tr>\n",
       "      <th>3</th>\n",
       "      <td>afternoon-tea</td>\n",
       "      <td>Easy chocolate fudge cake</td>\n",
       "      <td>['150ml sunflower oil, plus extra for the tin'...</td>\n",
       "      <td>Easy</td>\n",
       "      <td>['Vegetarian']</td>\n",
       "    </tr>\n",
       "    <tr>\n",
       "      <th>4</th>\n",
       "      <td>afternoon-tea</td>\n",
       "      <td>Classic scones with jam &amp; clotted cream</td>\n",
       "      <td>['350g self-raising flour, plus more for dusti...</td>\n",
       "      <td>Easy</td>\n",
       "      <td>['Easily doubled', 'Easily halved', 'Freezable']</td>\n",
       "    </tr>\n",
       "    <tr>\n",
       "      <th>...</th>\n",
       "      <td>...</td>\n",
       "      <td>...</td>\n",
       "      <td>...</td>\n",
       "      <td>...</td>\n",
       "      <td>...</td>\n",
       "    </tr>\n",
       "    <tr>\n",
       "      <th>623</th>\n",
       "      <td>vegetable</td>\n",
       "      <td>Parsnip &amp; celeriac bake</td>\n",
       "      <td>['600g parsnip, peeled and cubed', '1kg celeri...</td>\n",
       "      <td>Easy</td>\n",
       "      <td>['Freezable (before step 2 )', 'Healthy', 'Veg...</td>\n",
       "    </tr>\n",
       "    <tr>\n",
       "      <th>624</th>\n",
       "      <td>vegetable</td>\n",
       "      <td>Winter greens puff pie</td>\n",
       "      <td>['1 tbsp olive oil', '1 onion, chopped', '2 ga...</td>\n",
       "      <td>Easy</td>\n",
       "      <td>['Vegetarian']</td>\n",
       "    </tr>\n",
       "    <tr>\n",
       "      <th>625</th>\n",
       "      <td>vegetable</td>\n",
       "      <td>Asian greens</td>\n",
       "      <td>['1 tbsp vegetable oil', '2 tbsp oyster sauce'...</td>\n",
       "      <td>Easy</td>\n",
       "      <td>[]</td>\n",
       "    </tr>\n",
       "    <tr>\n",
       "      <th>626</th>\n",
       "      <td>vegetable</td>\n",
       "      <td>Giant butter bean stew</td>\n",
       "      <td>['4 x 235g cans butter beans or 500g dried but...</td>\n",
       "      <td>Easy</td>\n",
       "      <td>['Freezable', 'Gluten-free', 'Healthy', 'Veget...</td>\n",
       "    </tr>\n",
       "    <tr>\n",
       "      <th>627</th>\n",
       "      <td>vegetable</td>\n",
       "      <td>Cheesy sprout gratin</td>\n",
       "      <td>['600g brussels sprouts, trimmed and halved if...</td>\n",
       "      <td>Easy</td>\n",
       "      <td>['Vegetarian']</td>\n",
       "    </tr>\n",
       "  </tbody>\n",
       "</table>\n",
       "<p>628 rows × 5 columns</p>\n",
       "</div>"
      ],
      "text/plain": [
       "              type                                     name  \\\n",
       "0    afternoon-tea                       Lemon drizzle cake   \n",
       "1    afternoon-tea      Best ever chocolate brownies recipe   \n",
       "2    afternoon-tea         Classic Victoria sandwich recipe   \n",
       "3    afternoon-tea                Easy chocolate fudge cake   \n",
       "4    afternoon-tea  Classic scones with jam & clotted cream   \n",
       "..             ...                                      ...   \n",
       "623      vegetable                  Parsnip & celeriac bake   \n",
       "624      vegetable                   Winter greens puff pie   \n",
       "625      vegetable                             Asian greens   \n",
       "626      vegetable                   Giant butter bean stew   \n",
       "627      vegetable                     Cheesy sprout gratin   \n",
       "\n",
       "                                           ingredients   difficulty  \\\n",
       "0    ['225g unsalted butter,  softened', '225g cast...         Easy   \n",
       "1    ['185g unsalted butter', '185g best dark choco...  More effort   \n",
       "2    ['200g caster sugar', '200g softened butter', ...         Easy   \n",
       "3    ['150ml sunflower oil, plus extra for the tin'...         Easy   \n",
       "4    ['350g self-raising flour, plus more for dusti...         Easy   \n",
       "..                                                 ...          ...   \n",
       "623  ['600g parsnip, peeled and cubed', '1kg celeri...         Easy   \n",
       "624  ['1 tbsp olive oil', '1 onion, chopped', '2 ga...         Easy   \n",
       "625  ['1 tbsp vegetable oil', '2 tbsp oyster sauce'...         Easy   \n",
       "626  ['4 x 235g cans butter beans or 500g dried but...         Easy   \n",
       "627  ['600g brussels sprouts, trimmed and halved if...         Easy   \n",
       "\n",
       "                                        health_banners  \n",
       "0                                        ['Freezable']  \n",
       "1                                                   []  \n",
       "2    ['Freezable (Cake base freezes well for 3 mont...  \n",
       "3                                       ['Vegetarian']  \n",
       "4     ['Easily doubled', 'Easily halved', 'Freezable']  \n",
       "..                                                 ...  \n",
       "623  ['Freezable (before step 2 )', 'Healthy', 'Veg...  \n",
       "624                                     ['Vegetarian']  \n",
       "625                                                 []  \n",
       "626  ['Freezable', 'Gluten-free', 'Healthy', 'Veget...  \n",
       "627                                     ['Vegetarian']  \n",
       "\n",
       "[628 rows x 5 columns]"
      ]
     },
     "execution_count": 4,
     "metadata": {},
     "output_type": "execute_result"
    }
   ],
   "source": [
    "recipe_df = df.copy()\n",
    "recipe_df"
   ]
  },
  {
   "cell_type": "code",
   "execution_count": 5,
   "id": "529bc3da",
   "metadata": {},
   "outputs": [
    {
     "name": "stdout",
     "output_type": "stream",
     "text": [
      "<class 'pandas.core.frame.DataFrame'>\n",
      "RangeIndex: 628 entries, 0 to 627\n",
      "Data columns (total 5 columns):\n",
      " #   Column          Non-Null Count  Dtype \n",
      "---  ------          --------------  ----- \n",
      " 0   type            628 non-null    object\n",
      " 1   name            628 non-null    object\n",
      " 2   ingredients     628 non-null    object\n",
      " 3   difficulty      628 non-null    object\n",
      " 4   health_banners  628 non-null    object\n",
      "dtypes: object(5)\n",
      "memory usage: 24.7+ KB\n"
     ]
    }
   ],
   "source": [
    "recipe_df.info()"
   ]
  },
  {
   "cell_type": "code",
   "execution_count": 6,
   "id": "e5f5c6e1",
   "metadata": {},
   "outputs": [
    {
     "data": {
      "text/html": [
       "<div>\n",
       "<style scoped>\n",
       "    .dataframe tbody tr th:only-of-type {\n",
       "        vertical-align: middle;\n",
       "    }\n",
       "\n",
       "    .dataframe tbody tr th {\n",
       "        vertical-align: top;\n",
       "    }\n",
       "\n",
       "    .dataframe thead th {\n",
       "        text-align: right;\n",
       "    }\n",
       "</style>\n",
       "<table border=\"1\" class=\"dataframe\">\n",
       "  <thead>\n",
       "    <tr style=\"text-align: right;\">\n",
       "      <th></th>\n",
       "      <th>type</th>\n",
       "      <th>name</th>\n",
       "      <th>ingredients</th>\n",
       "      <th>difficulty</th>\n",
       "      <th>health_banners</th>\n",
       "    </tr>\n",
       "  </thead>\n",
       "  <tbody>\n",
       "    <tr>\n",
       "      <th>0</th>\n",
       "      <td>afternoon-tea</td>\n",
       "      <td>Lemon drizzle cake</td>\n",
       "      <td>['225g unsalted butter,  softened', '225g cast...</td>\n",
       "      <td>Easy</td>\n",
       "      <td>['Freezable']</td>\n",
       "    </tr>\n",
       "    <tr>\n",
       "      <th>1</th>\n",
       "      <td>afternoon-tea</td>\n",
       "      <td>Best ever chocolate brownies recipe</td>\n",
       "      <td>['185g unsalted butter', '185g best dark choco...</td>\n",
       "      <td>More effort</td>\n",
       "      <td>[]</td>\n",
       "    </tr>\n",
       "    <tr>\n",
       "      <th>2</th>\n",
       "      <td>afternoon-tea</td>\n",
       "      <td>Classic Victoria sandwich recipe</td>\n",
       "      <td>['200g caster sugar', '200g softened butter', ...</td>\n",
       "      <td>Easy</td>\n",
       "      <td>['Freezable (Cake base freezes well for 3 mont...</td>\n",
       "    </tr>\n",
       "    <tr>\n",
       "      <th>3</th>\n",
       "      <td>afternoon-tea</td>\n",
       "      <td>Easy chocolate fudge cake</td>\n",
       "      <td>['150ml sunflower oil, plus extra for the tin'...</td>\n",
       "      <td>Easy</td>\n",
       "      <td>['Vegetarian']</td>\n",
       "    </tr>\n",
       "    <tr>\n",
       "      <th>4</th>\n",
       "      <td>afternoon-tea</td>\n",
       "      <td>Classic scones with jam &amp; clotted cream</td>\n",
       "      <td>['350g self-raising flour, plus more for dusti...</td>\n",
       "      <td>Easy</td>\n",
       "      <td>['Easily doubled', 'Easily halved', 'Freezable']</td>\n",
       "    </tr>\n",
       "  </tbody>\n",
       "</table>\n",
       "</div>"
      ],
      "text/plain": [
       "            type                                     name  \\\n",
       "0  afternoon-tea                       Lemon drizzle cake   \n",
       "1  afternoon-tea      Best ever chocolate brownies recipe   \n",
       "2  afternoon-tea         Classic Victoria sandwich recipe   \n",
       "3  afternoon-tea                Easy chocolate fudge cake   \n",
       "4  afternoon-tea  Classic scones with jam & clotted cream   \n",
       "\n",
       "                                         ingredients   difficulty  \\\n",
       "0  ['225g unsalted butter,  softened', '225g cast...         Easy   \n",
       "1  ['185g unsalted butter', '185g best dark choco...  More effort   \n",
       "2  ['200g caster sugar', '200g softened butter', ...         Easy   \n",
       "3  ['150ml sunflower oil, plus extra for the tin'...         Easy   \n",
       "4  ['350g self-raising flour, plus more for dusti...         Easy   \n",
       "\n",
       "                                      health_banners  \n",
       "0                                      ['Freezable']  \n",
       "1                                                 []  \n",
       "2  ['Freezable (Cake base freezes well for 3 mont...  \n",
       "3                                     ['Vegetarian']  \n",
       "4   ['Easily doubled', 'Easily halved', 'Freezable']  "
      ]
     },
     "execution_count": 6,
     "metadata": {},
     "output_type": "execute_result"
    }
   ],
   "source": [
    "recipe_df.index = range(len(recipe_df))\n",
    "recipe_df.head() "
   ]
  },
  {
   "cell_type": "code",
   "execution_count": 7,
   "id": "9c5b5f71",
   "metadata": {},
   "outputs": [],
   "source": [
    "recipe_df = recipe_df.loc[:,['type','name','ingredients']]"
   ]
  },
  {
   "cell_type": "code",
   "execution_count": 8,
   "id": "3397ef73",
   "metadata": {},
   "outputs": [],
   "source": [
    "# https://archive.nytimes.com/open.blogs.nytimes.com/2015/04/09/extracting-structured-data-from-recipes-using-conditional-random-fields/"
   ]
  },
  {
   "cell_type": "code",
   "execution_count": 9,
   "id": "f06eb1f2",
   "metadata": {},
   "outputs": [
    {
     "data": {
      "text/html": [
       "<div>\n",
       "<style scoped>\n",
       "    .dataframe tbody tr th:only-of-type {\n",
       "        vertical-align: middle;\n",
       "    }\n",
       "\n",
       "    .dataframe tbody tr th {\n",
       "        vertical-align: top;\n",
       "    }\n",
       "\n",
       "    .dataframe thead th {\n",
       "        text-align: right;\n",
       "    }\n",
       "</style>\n",
       "<table border=\"1\" class=\"dataframe\">\n",
       "  <thead>\n",
       "    <tr style=\"text-align: right;\">\n",
       "      <th></th>\n",
       "      <th>ingredients</th>\n",
       "    </tr>\n",
       "  </thead>\n",
       "  <tbody>\n",
       "    <tr>\n",
       "      <th>0</th>\n",
       "      <td>['225g unsalted butter,  softened', '225g cast...</td>\n",
       "    </tr>\n",
       "    <tr>\n",
       "      <th>1</th>\n",
       "      <td>['185g unsalted butter', '185g best dark choco...</td>\n",
       "    </tr>\n",
       "    <tr>\n",
       "      <th>2</th>\n",
       "      <td>['200g caster sugar', '200g softened butter', ...</td>\n",
       "    </tr>\n",
       "    <tr>\n",
       "      <th>3</th>\n",
       "      <td>['150ml sunflower oil, plus extra for the tin'...</td>\n",
       "    </tr>\n",
       "    <tr>\n",
       "      <th>4</th>\n",
       "      <td>['350g self-raising flour, plus more for dusti...</td>\n",
       "    </tr>\n",
       "    <tr>\n",
       "      <th>...</th>\n",
       "      <td>...</td>\n",
       "    </tr>\n",
       "    <tr>\n",
       "      <th>623</th>\n",
       "      <td>['600g parsnip, peeled and cubed', '1kg celeri...</td>\n",
       "    </tr>\n",
       "    <tr>\n",
       "      <th>624</th>\n",
       "      <td>['1 tbsp olive oil', '1 onion, chopped', '2 ga...</td>\n",
       "    </tr>\n",
       "    <tr>\n",
       "      <th>625</th>\n",
       "      <td>['1 tbsp vegetable oil', '2 tbsp oyster sauce'...</td>\n",
       "    </tr>\n",
       "    <tr>\n",
       "      <th>626</th>\n",
       "      <td>['4 x 235g cans butter beans or 500g dried but...</td>\n",
       "    </tr>\n",
       "    <tr>\n",
       "      <th>627</th>\n",
       "      <td>['600g brussels sprouts, trimmed and halved if...</td>\n",
       "    </tr>\n",
       "  </tbody>\n",
       "</table>\n",
       "<p>628 rows × 1 columns</p>\n",
       "</div>"
      ],
      "text/plain": [
       "                                           ingredients\n",
       "0    ['225g unsalted butter,  softened', '225g cast...\n",
       "1    ['185g unsalted butter', '185g best dark choco...\n",
       "2    ['200g caster sugar', '200g softened butter', ...\n",
       "3    ['150ml sunflower oil, plus extra for the tin'...\n",
       "4    ['350g self-raising flour, plus more for dusti...\n",
       "..                                                 ...\n",
       "623  ['600g parsnip, peeled and cubed', '1kg celeri...\n",
       "624  ['1 tbsp olive oil', '1 onion, chopped', '2 ga...\n",
       "625  ['1 tbsp vegetable oil', '2 tbsp oyster sauce'...\n",
       "626  ['4 x 235g cans butter beans or 500g dried but...\n",
       "627  ['600g brussels sprouts, trimmed and halved if...\n",
       "\n",
       "[628 rows x 1 columns]"
      ]
     },
     "execution_count": 9,
     "metadata": {},
     "output_type": "execute_result"
    }
   ],
   "source": [
    "recipe_df[['ingredients']]"
   ]
  },
  {
   "cell_type": "code",
   "execution_count": 10,
   "id": "3fc2ac90",
   "metadata": {},
   "outputs": [
    {
     "data": {
      "text/plain": [
       "\"['225g unsalted butter,  softened', '225g caster sugar', '4 eggs', '225g self-raising flour', '1 lemon, zested', '1½ lemons, juiced', '85g caster sugar']\""
      ]
     },
     "execution_count": 10,
     "metadata": {},
     "output_type": "execute_result"
    }
   ],
   "source": [
    "recipe_df['ingredients'][0]"
   ]
  },
  {
   "cell_type": "code",
   "execution_count": 11,
   "id": "52e4f549",
   "metadata": {},
   "outputs": [
    {
     "name": "stderr",
     "output_type": "stream",
     "text": [
      "/var/folders/sh/41fnk4317z18sxj_vwp76hz40000gn/T/ipykernel_51053/939555218.py:2: FutureWarning: The default value of regex will change from True to False in a future version.\n",
      "  recipe_df[\"ingredients\"] = recipe_df[\"ingredients\"].str.replace(r\"\\d(\\w+)?\\s|\\(\\w+\\)\", \"\")\n"
     ]
    },
    {
     "data": {
      "text/plain": [
       "0      ['unsalted butter,  softened', 'caster sugar',...\n",
       "1      ['unsalted butter', 'best dark chocolate', 'pl...\n",
       "2      ['caster sugar', 'softened butter', 'eggs, bea...\n",
       "3      ['sunflower oil, plus extra for the tin', 'sel...\n",
       "4      ['self-raising flour, plus more for dusting', ...\n",
       "                             ...                        \n",
       "623    ['parsnip, peeled and cubed', 'celeriac, peele...\n",
       "624    ['tbsp olive oil', 'onion, chopped', 'garlic c...\n",
       "625    ['tbsp vegetable oil', 'tbsp oyster sauce', 'm...\n",
       "626    ['x cans butter beans or dried butter beans (c...\n",
       "627    ['brussels sprouts, trimmed and halved if larg...\n",
       "Name: ingredients, Length: 628, dtype: object"
      ]
     },
     "execution_count": 11,
     "metadata": {},
     "output_type": "execute_result"
    }
   ],
   "source": [
    "# удаляю цифры + текст в скобках\n",
    "recipe_df[\"ingredients\"] = recipe_df[\"ingredients\"].str.replace(r\"\\d(\\w+)?\\s|\\(\\w+\\)\", \"\")\n",
    "recipe_df[\"ingredients\"]"
   ]
  },
  {
   "cell_type": "code",
   "execution_count": 12,
   "id": "45287d81",
   "metadata": {},
   "outputs": [
    {
     "name": "stderr",
     "output_type": "stream",
     "text": [
      "/var/folders/sh/41fnk4317z18sxj_vwp76hz40000gn/T/ipykernel_51053/1986964682.py:3: FutureWarning: The default value of regex will change from True to False in a future version.\n",
      "  recipe_df[\"ingredients\"] = recipe_df[\"ingredients\"].str.replace(pattern, \"\")\n"
     ]
    },
    {
     "data": {
      "text/plain": [
       "0      ['unsalted butter,  softened', 'caster sugar',...\n",
       "1      ['unsalted butter', 'best dark chocolate', 'pl...\n",
       "2      ['caster sugar', 'softened butter', 'eggs, bea...\n",
       "3      ['sunflower oil, plus extra for the tin', 'sel...\n",
       "4      ['self-raising flour, plus more for dusting', ...\n",
       "                             ...                        \n",
       "623    ['parsnip, peeled and cubed', 'celeriac, peele...\n",
       "624    ['olive oil', 'onion, chopped', 'garlic cloves...\n",
       "625    ['vegetable oil', 'oyster sauce', 'mixed Asian...\n",
       "626    ['cans butter beans or dried butter beans (coo...\n",
       "627    ['brussels sprouts, trimmed and halved if larg...\n",
       "Name: ingredients, Length: 628, dtype: object"
      ]
     },
     "execution_count": 12,
     "metadata": {},
     "output_type": "execute_result"
    }
   ],
   "source": [
    "# measures\n",
    "pattern = r'\\b(?:{})\\s?\\b'.format('|'.join(MEASURES))\n",
    "recipe_df[\"ingredients\"] = recipe_df[\"ingredients\"].str.replace(pattern, \"\")\n",
    "recipe_df[\"ingredients\"]"
   ]
  },
  {
   "cell_type": "code",
   "execution_count": 13,
   "metadata": {},
   "outputs": [
    {
     "name": "stderr",
     "output_type": "stream",
     "text": [
      "/var/folders/sh/41fnk4317z18sxj_vwp76hz40000gn/T/ipykernel_51053/2439785360.py:3: FutureWarning: The default value of regex will change from True to False in a future version.\n",
      "  recipe_df[\"ingredients\"] = recipe_df[\"ingredients\"].str.replace(pattern, \"\")\n"
     ]
    },
    {
     "data": {
      "text/plain": [
       "0      ['unsalted butter,  softened', 'caster sugar',...\n",
       "1      ['unsalted butter', 'best dark chocolate', 'pl...\n",
       "2      ['caster sugar', 'softened butter', 'eggs, bea...\n",
       "3      ['sunflower oil, plus extra tin', 'self-raisin...\n",
       "4      ['self-raising flour, plus more dusting', 'bak...\n",
       "                             ...                        \n",
       "623    ['parsnip, peeled and cubed', 'celeriac, peele...\n",
       "624    ['olive oil', 'onion, chopped', 'garlic cloves...\n",
       "625    ['vegetable oil', 'oyster sauce', 'mixed Asian...\n",
       "626    ['cans butter beans or dried butter beans (coo...\n",
       "627    ['brussels sprouts, trimmed and halved if larg...\n",
       "Name: ingredients, Length: 628, dtype: object"
      ]
     },
     "execution_count": 13,
     "metadata": {},
     "output_type": "execute_result"
    }
   ],
   "source": [
    "# stop_words\n",
    "pattern = r'\\b(?:{})\\s?\\b'.format('|'.join(STOP_WORDS))\n",
    "recipe_df[\"ingredients\"] = recipe_df[\"ingredients\"].str.replace(pattern, \"\")\n",
    "recipe_df[\"ingredients\"]"
   ]
  },
  {
   "cell_type": "code",
   "execution_count": 14,
   "id": "eb791f0c",
   "metadata": {},
   "outputs": [
    {
     "data": {
      "text/plain": [
       "0      ['unsalted butter,  softened', 'caster sugar',...\n",
       "1      ['unsalted butter', 'best dark chocolate', 'pl...\n",
       "2      ['caster sugar', 'softened butter', 'eggs, bea...\n",
       "3      ['sunflower oil, plus extra tin', 'self-raisin...\n",
       "4      ['self-raising flour, plus more dusting', 'bak...\n",
       "                             ...                        \n",
       "623    ['parsnip, peeled and cubed', 'celeriac, peele...\n",
       "624    ['olive oil', 'onion, chopped', 'garlic cloves...\n",
       "625    ['vegetable oil', 'oyster sauce', 'mixed asian...\n",
       "626    ['cans butter beans or dried butter beans (coo...\n",
       "627    ['brussels sprouts, trimmed and halved if larg...\n",
       "Name: ingredients, Length: 628, dtype: object"
      ]
     },
     "execution_count": 14,
     "metadata": {},
     "output_type": "execute_result"
    }
   ],
   "source": [
    "recipe_df[\"ingredients\"] = recipe_df[\"ingredients\"].str.lower()\n",
    "recipe_df[\"ingredients\"]"
   ]
  },
  {
   "cell_type": "code",
   "execution_count": 15,
   "id": "2c5d6975",
   "metadata": {},
   "outputs": [
    {
     "data": {
      "text/html": [
       "<div>\n",
       "<style scoped>\n",
       "    .dataframe tbody tr th:only-of-type {\n",
       "        vertical-align: middle;\n",
       "    }\n",
       "\n",
       "    .dataframe tbody tr th {\n",
       "        vertical-align: top;\n",
       "    }\n",
       "\n",
       "    .dataframe thead th {\n",
       "        text-align: right;\n",
       "    }\n",
       "</style>\n",
       "<table border=\"1\" class=\"dataframe\">\n",
       "  <thead>\n",
       "    <tr style=\"text-align: right;\">\n",
       "      <th></th>\n",
       "      <th>type</th>\n",
       "      <th>name</th>\n",
       "      <th>ingredients</th>\n",
       "    </tr>\n",
       "  </thead>\n",
       "  <tbody>\n",
       "    <tr>\n",
       "      <th>0</th>\n",
       "      <td>afternoon-tea</td>\n",
       "      <td>Lemon drizzle cake</td>\n",
       "      <td>['unsalted butter,  softened', 'caster sugar',...</td>\n",
       "    </tr>\n",
       "    <tr>\n",
       "      <th>1</th>\n",
       "      <td>afternoon-tea</td>\n",
       "      <td>Best ever chocolate brownies recipe</td>\n",
       "      <td>['unsalted butter', 'best dark chocolate', 'pl...</td>\n",
       "    </tr>\n",
       "    <tr>\n",
       "      <th>2</th>\n",
       "      <td>afternoon-tea</td>\n",
       "      <td>Classic Victoria sandwich recipe</td>\n",
       "      <td>['caster sugar', 'softened butter', 'eggs, bea...</td>\n",
       "    </tr>\n",
       "    <tr>\n",
       "      <th>3</th>\n",
       "      <td>afternoon-tea</td>\n",
       "      <td>Easy chocolate fudge cake</td>\n",
       "      <td>['sunflower oil, plus extra tin', 'self-raisin...</td>\n",
       "    </tr>\n",
       "    <tr>\n",
       "      <th>4</th>\n",
       "      <td>afternoon-tea</td>\n",
       "      <td>Classic scones with jam &amp; clotted cream</td>\n",
       "      <td>['self-raising flour, plus more dusting', 'bak...</td>\n",
       "    </tr>\n",
       "    <tr>\n",
       "      <th>...</th>\n",
       "      <td>...</td>\n",
       "      <td>...</td>\n",
       "      <td>...</td>\n",
       "    </tr>\n",
       "    <tr>\n",
       "      <th>623</th>\n",
       "      <td>vegetable</td>\n",
       "      <td>Parsnip &amp; celeriac bake</td>\n",
       "      <td>['parsnip, peeled and cubed', 'celeriac, peele...</td>\n",
       "    </tr>\n",
       "    <tr>\n",
       "      <th>624</th>\n",
       "      <td>vegetable</td>\n",
       "      <td>Winter greens puff pie</td>\n",
       "      <td>['olive oil', 'onion, chopped', 'garlic cloves...</td>\n",
       "    </tr>\n",
       "    <tr>\n",
       "      <th>625</th>\n",
       "      <td>vegetable</td>\n",
       "      <td>Asian greens</td>\n",
       "      <td>['vegetable oil', 'oyster sauce', 'mixed asian...</td>\n",
       "    </tr>\n",
       "    <tr>\n",
       "      <th>626</th>\n",
       "      <td>vegetable</td>\n",
       "      <td>Giant butter bean stew</td>\n",
       "      <td>['cans butter beans or dried butter beans (coo...</td>\n",
       "    </tr>\n",
       "    <tr>\n",
       "      <th>627</th>\n",
       "      <td>vegetable</td>\n",
       "      <td>Cheesy sprout gratin</td>\n",
       "      <td>['brussels sprouts, trimmed and halved if larg...</td>\n",
       "    </tr>\n",
       "  </tbody>\n",
       "</table>\n",
       "<p>628 rows × 3 columns</p>\n",
       "</div>"
      ],
      "text/plain": [
       "              type                                     name  \\\n",
       "0    afternoon-tea                       Lemon drizzle cake   \n",
       "1    afternoon-tea      Best ever chocolate brownies recipe   \n",
       "2    afternoon-tea         Classic Victoria sandwich recipe   \n",
       "3    afternoon-tea                Easy chocolate fudge cake   \n",
       "4    afternoon-tea  Classic scones with jam & clotted cream   \n",
       "..             ...                                      ...   \n",
       "623      vegetable                  Parsnip & celeriac bake   \n",
       "624      vegetable                   Winter greens puff pie   \n",
       "625      vegetable                             Asian greens   \n",
       "626      vegetable                   Giant butter bean stew   \n",
       "627      vegetable                     Cheesy sprout gratin   \n",
       "\n",
       "                                           ingredients  \n",
       "0    ['unsalted butter,  softened', 'caster sugar',...  \n",
       "1    ['unsalted butter', 'best dark chocolate', 'pl...  \n",
       "2    ['caster sugar', 'softened butter', 'eggs, bea...  \n",
       "3    ['sunflower oil, plus extra tin', 'self-raisin...  \n",
       "4    ['self-raising flour, plus more dusting', 'bak...  \n",
       "..                                                 ...  \n",
       "623  ['parsnip, peeled and cubed', 'celeriac, peele...  \n",
       "624  ['olive oil', 'onion, chopped', 'garlic cloves...  \n",
       "625  ['vegetable oil', 'oyster sauce', 'mixed asian...  \n",
       "626  ['cans butter beans or dried butter beans (coo...  \n",
       "627  ['brussels sprouts, trimmed and halved if larg...  \n",
       "\n",
       "[628 rows x 3 columns]"
      ]
     },
     "execution_count": 15,
     "metadata": {},
     "output_type": "execute_result"
    }
   ],
   "source": [
    "recipe_df"
   ]
  },
  {
   "cell_type": "code",
   "execution_count": 16,
   "id": "c78339f6",
   "metadata": {},
   "outputs": [
    {
     "data": {
      "text/plain": [
       "0      [unsalted butter,  softened, caster sugar, egg...\n",
       "1      [unsalted butter, best dark chocolate, plain f...\n",
       "2      [caster sugar, softened butter, eggs, beaten, ...\n",
       "3      [sunflower oil, plus extra tin, self-raising f...\n",
       "4      [self-raising flour, plus more dusting, baking...\n",
       "                             ...                        \n",
       "623    [parsnip, peeled and cubed, celeriac, peeled a...\n",
       "624    [olive oil, onion, chopped, garlic cloves, cru...\n",
       "625    [vegetable oil, oyster sauce, mixed asian gree...\n",
       "626    [cans butter beans or dried butter beans (cook...\n",
       "627    [brussels sprouts, trimmed and halved if large...\n",
       "Name: ingredients, Length: 628, dtype: object"
      ]
     },
     "execution_count": 16,
     "metadata": {},
     "output_type": "execute_result"
    }
   ],
   "source": [
    "recipe_df['ingredients'] = recipe_df['ingredients'].apply(eval).tolist()\n",
    "recipe_df['ingredients']"
   ]
  },
  {
   "cell_type": "code",
   "execution_count": 17,
   "id": "aac09b4c",
   "metadata": {},
   "outputs": [
    {
     "data": {
      "text/plain": [
       "['unsalted butter,  softened',\n",
       " 'caster sugar',\n",
       " 'eggs',\n",
       " 'self-raising flour',\n",
       " 'lemon, zested',\n",
       " 'lemons, juiced',\n",
       " 'caster sugar']"
      ]
     },
     "execution_count": 17,
     "metadata": {},
     "output_type": "execute_result"
    }
   ],
   "source": [
    "recipe_df['ingredients'][0]"
   ]
  },
  {
   "cell_type": "code",
   "execution_count": 18,
   "id": "05c098df",
   "metadata": {},
   "outputs": [],
   "source": [
    "# # пунктуация!\n",
    "# (r'[-\\s.,;!?]+')"
   ]
  },
  {
   "cell_type": "code",
   "execution_count": 19,
   "id": "51f8da88",
   "metadata": {},
   "outputs": [],
   "source": [
    "# from nltk.tokenize import RegexpTokenizer"
   ]
  },
  {
   "cell_type": "code",
   "execution_count": 20,
   "id": "a34e88c2",
   "metadata": {},
   "outputs": [],
   "source": [
    "tokenizer = RegexpTokenizer(r'[-\\s.,;!?]+')\n",
    "# tokenizer.tokenize(sentence)"
   ]
  },
  {
   "cell_type": "code",
   "execution_count": 20,
   "id": "571e1ba4",
   "metadata": {},
   "outputs": [],
   "source": [
    "# def remove_punctuation(phrase):\n",
    "#     return [re.sub('[-\\s.,;!?]+', '', word) for word in phrase]\n",
    "\n",
    "# remove_punctuation('unsalted butter,  softened')"
   ]
  },
  {
   "cell_type": "code",
   "execution_count": null,
   "id": "84454803",
   "metadata": {},
   "outputs": [],
   "source": [
    "recipe_df['ingredients_parsed'] = recipe_df['ingredients'].apply(lambda x: parse_list_ingredients(x))"
   ]
  },
  {
   "cell_type": "code",
   "execution_count": 22,
   "id": "815b3614",
   "metadata": {},
   "outputs": [],
   "source": [
    "def parse_list_ingredients(ingredients: List) -> List:\n",
    "    \n",
    "    "
   ]
  },
  {
   "cell_type": "code",
   "execution_count": null,
   "id": "3ebe1cb2",
   "metadata": {},
   "outputs": [],
   "source": [
    "# recipe_df[\"ingredients\"] = recipe_df[\"ingredients\"].str.replace(r'[-.,;!?]+', \"\")\n",
    "# recipe_df[\"ingredients\"]"
   ]
  },
  {
   "cell_type": "code",
   "execution_count": null,
   "id": "8b1eccfe",
   "metadata": {},
   "outputs": [
    {
     "data": {
      "text/plain": [
       "['1', 'litre', 'organic', 'chicken', 'stock']"
      ]
     },
     "execution_count": 23,
     "metadata": {},
     "output_type": "execute_result"
    }
   ],
   "source": [
    "import re\n",
    "import string\n",
    "import ast\n",
    "ingredients = ['1 x 1.6kg whole duck', '2 heaped teaspoons Chinese five-spice powder', '1 clementine',\n",
    "                '6 fresh bay leaves', 'GRAVY', '', '1 bulb of garlic', '2 carrots', '2 red onions', \n",
    "                '3 tablespoons plain flour', '100 ml Marsala', '1 litre organic chicken stock']\n",
    "translator = str.maketrans('', '', string.punctuation)\n",
    "for i in ingredients:\n",
    "    # i.translate(translator)\n",
    "    # print(i)\n",
    "    items = re.split(' |-', i)\n",
    "items"
   ]
  },
  {
   "cell_type": "code",
   "execution_count": null,
   "id": "195c99da",
   "metadata": {},
   "outputs": [],
   "source": [
    "# import nltk"
   ]
  },
  {
   "cell_type": "code",
   "execution_count": null,
   "id": "326035b1",
   "metadata": {},
   "outputs": [],
   "source": [
    "# from nltk.tokenize import TreebankWordTokenizer\n",
    "# tokenizer = TreebankWordTokenizer()"
   ]
  },
  {
   "cell_type": "code",
   "execution_count": null,
   "id": "eb2ec91b",
   "metadata": {},
   "outputs": [],
   "source": [
    "# nltk.download('stopwords')\n",
    "# stop_words = nltk.corpus.stopwords.words('english')\n",
    "# list(stop_words)"
   ]
  },
  {
   "cell_type": "markdown",
   "id": "f71bcc49",
   "metadata": {},
   "source": [
    "Нормализация особенно полезна для поисковых систем. При поиске нормали- зация увеличивает количество найденных совпадений для конкретного запроса. "
   ]
  },
  {
   "cell_type": "code",
   "execution_count": null,
   "id": "355915f8",
   "metadata": {},
   "outputs": [],
   "source": [
    "# df_copy = recipe_df.copy()"
   ]
  },
  {
   "cell_type": "code",
   "execution_count": null,
   "id": "0562f008",
   "metadata": {},
   "outputs": [],
   "source": [
    "# from nltk.stem import PorterStemmer, SnowballStemmer"
   ]
  },
  {
   "cell_type": "code",
   "execution_count": null,
   "id": "3a876451",
   "metadata": {},
   "outputs": [],
   "source": [
    "# SnowballStemmer - более \"сильный\""
   ]
  },
  {
   "cell_type": "code",
   "execution_count": null,
   "id": "4184af33",
   "metadata": {},
   "outputs": [],
   "source": [
    "# stemmer = PorterStemmer()\n"
   ]
  },
  {
   "cell_type": "code",
   "execution_count": null,
   "id": "33756fda",
   "metadata": {},
   "outputs": [],
   "source": [
    "# recipe_df['ingredients'][0][0]"
   ]
  },
  {
   "cell_type": "code",
   "execution_count": null,
   "id": "8af63f8a",
   "metadata": {},
   "outputs": [],
   "source": [
    "# def stem_text(row):\n",
    "#     return ' '.join([stemmer.stem(word) for word in row.split()])\n"
   ]
  },
  {
   "cell_type": "code",
   "execution_count": null,
   "id": "21de05cb",
   "metadata": {},
   "outputs": [],
   "source": [
    "# df_copy['ingredients'].apply(stem_text)\n"
   ]
  }
 ],
 "metadata": {
  "kernelspec": {
   "display_name": "Python 3",
   "language": "python",
   "name": "python3"
  },
  "language_info": {
   "codemirror_mode": {
    "name": "ipython",
    "version": 3
   },
   "file_extension": ".py",
   "mimetype": "text/x-python",
   "name": "python",
   "nbconvert_exporter": "python",
   "pygments_lexer": "ipython3",
   "version": "3.10.9"
  }
 },
 "nbformat": 4,
 "nbformat_minor": 5
}
